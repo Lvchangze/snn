{
 "cells": [
  {
   "cell_type": "code",
   "execution_count": 1,
   "metadata": {},
   "outputs": [
    {
     "name": "stderr",
     "output_type": "stream",
     "text": [
      "/home/xujh/miniconda3/envs/snn/lib/python3.9/site-packages/tqdm/auto.py:22: TqdmWarning: IProgress not found. Please update jupyter and ipywidgets. See https://ipywidgets.readthedocs.io/en/stable/user_install.html\n",
      "  from .autonotebook import tqdm as notebook_tqdm\n"
     ]
    },
    {
     "name": "stdout",
     "output_type": "stream",
     "text": [
      "[ModuleList(\n",
      "  (0): Conv2d(1, 100, kernel_size=(3, 100), stride=(1, 1))\n",
      "  (1): Conv2d(1, 100, kernel_size=(4, 100), stride=(1, 1))\n",
      "  (2): Conv2d(1, 100, kernel_size=(5, 100), stride=(1, 1))\n",
      "), ModuleList(\n",
      "  (0): MaxPool2d(kernel_size=(23, 1), stride=(23, 1), padding=0, dilation=1, ceil_mode=False)\n",
      "  (1): MaxPool2d(kernel_size=(22, 1), stride=(22, 1), padding=0, dilation=1, ceil_mode=False)\n",
      "  (2): MaxPool2d(kernel_size=(21, 1), stride=(21, 1), padding=0, dilation=1, ceil_mode=False)\n",
      "), Leaky(), Linear(in_features=300, out_features=2, bias=True), Leaky()]\n"
     ]
    }
   ],
   "source": [
    "from args import SNNArgs\n",
    "from model.textcnn import TextCNN\n",
    "from main import *\n",
    "from snntorch import surrogate\n",
    "\n",
    "arg = SNNArgs()\n",
    "build_environment(arg)\n",
    "model = TextCNN(arg, spike_grad=surrogate.fast_sigmoid).to(arg.device)\n",
    "\n",
    "print(list(model._modules.values()))"
   ]
  },
  {
   "cell_type": "code",
   "execution_count": 8,
   "metadata": {},
   "outputs": [
    {
     "name": "stdout",
     "output_type": "stream",
     "text": [
      "tensor([ True, False, False, False, False, False,  True])\n",
      "tensor(2)\n",
      "3.5\n",
      "spike no.0: dead ratio0, spike no.1: dead ratio2, spike no.2: dead ratio3, spike no.3: dead ratio4, spike no.4: dead ratio5\n"
     ]
    }
   ],
   "source": [
    "# for c in model.convs_1:\n",
    "#     print(c)\n",
    "spikes = torch.tensor([0,1,1,1,1,1,0])\n",
    "zeros = torch.eq(spikes, 0)\n",
    "print(zeros)\n",
    "print(torch.sum(zeros))\n",
    "# print(zeros.shape[0].item())\n",
    "print(7/2)\n",
    "l = [0,2,3,4,5]\n",
    "print(\", \".join([\"spike no.{}: dead ratio:{}\".format(index, value) \n",
    "            for index, value in enumerate(l)]))"
   ]
  },
  {
   "cell_type": "code",
   "execution_count": 1,
   "metadata": {},
   "outputs": [
    {
     "ename": "NameError",
     "evalue": "name 'torch' is not defined",
     "output_type": "error",
     "traceback": [
      "\u001b[0;31m---------------------------------------------------------------------------\u001b[0m",
      "\u001b[0;31mNameError\u001b[0m                                 Traceback (most recent call last)",
      "\u001b[1;32m/home/xujh/snn/zz.ipynb Cell 3\u001b[0m in \u001b[0;36m<cell line: 1>\u001b[0;34m()\u001b[0m\n\u001b[0;32m----> <a href='vscode-notebook-cell://ssh-remote%2B10.176.56.53/home/xujh/snn/zz.ipynb#ch0000002vscode-remote?line=0'>1</a>\u001b[0m t \u001b[39m=\u001b[39m torch\u001b[39m.\u001b[39mtensor([\u001b[39m1\u001b[39m,\u001b[39m2\u001b[39m,\u001b[39m3\u001b[39m])\u001b[39m.\u001b[39mto(\u001b[39m\"\u001b[39m\u001b[39mcuda\u001b[39m\u001b[39m\"\u001b[39m)\n\u001b[1;32m      <a href='vscode-notebook-cell://ssh-remote%2B10.176.56.53/home/xujh/snn/zz.ipynb#ch0000002vscode-remote?line=1'>2</a>\u001b[0m \u001b[39mprint\u001b[39m(t)\n\u001b[1;32m      <a href='vscode-notebook-cell://ssh-remote%2B10.176.56.53/home/xujh/snn/zz.ipynb#ch0000002vscode-remote?line=2'>3</a>\u001b[0m a \u001b[39m=\u001b[39m t\u001b[39m.\u001b[39mclone()\u001b[39m.\u001b[39mdetach()\n",
      "\u001b[0;31mNameError\u001b[0m: name 'torch' is not defined"
     ]
    }
   ],
   "source": [
    "t = torch.tensor([1,2,3]).to(\"cuda\")\n",
    "print(t)\n",
    "a = t.clone().detach()\n",
    "t.add_(1)\n",
    "print(a.shape == t.shape)\n",
    "print(t)"
   ]
  }
 ],
 "metadata": {
  "kernelspec": {
   "display_name": "Python 3.9.12 ('snn')",
   "language": "python",
   "name": "python3"
  },
  "language_info": {
   "codemirror_mode": {
    "name": "ipython",
    "version": 3
   },
   "file_extension": ".py",
   "mimetype": "text/x-python",
   "name": "python",
   "nbconvert_exporter": "python",
   "pygments_lexer": "ipython3",
   "version": "3.9.12"
  },
  "orig_nbformat": 4,
  "vscode": {
   "interpreter": {
    "hash": "c539e67446c23be66012e345976d43fabc6168eb458110fcf52fc1601797125a"
   }
  }
 },
 "nbformat": 4,
 "nbformat_minor": 2
}
