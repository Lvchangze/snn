{
 "cells": [
  {
   "cell_type": "code",
   "execution_count": 2,
   "metadata": {},
   "outputs": [
    {
     "name": "stderr",
     "output_type": "stream",
     "text": [
      "/home/xujh/miniconda3/envs/snn/lib/python3.9/site-packages/tqdm/auto.py:22: TqdmWarning: IProgress not found. Please update jupyter and ipywidgets. See https://ipywidgets.readthedocs.io/en/stable/user_install.html\n",
      "  from .autonotebook import tqdm as notebook_tqdm\n"
     ]
    },
    {
     "name": "stdout",
     "output_type": "stream",
     "text": [
      "[ModuleList(\n",
      "  (0): Conv2d(1, 100, kernel_size=(3, 100), stride=(1, 1))\n",
      "  (1): Conv2d(1, 100, kernel_size=(4, 100), stride=(1, 1))\n",
      "  (2): Conv2d(1, 100, kernel_size=(5, 100), stride=(1, 1))\n",
      "), ModuleList(\n",
      "  (0): MaxPool2d(kernel_size=(28, 1), stride=(28, 1), padding=0, dilation=1, ceil_mode=False)\n",
      "  (1): MaxPool2d(kernel_size=(27, 1), stride=(27, 1), padding=0, dilation=1, ceil_mode=False)\n",
      "  (2): MaxPool2d(kernel_size=(26, 1), stride=(26, 1), padding=0, dilation=1, ceil_mode=False)\n",
      "), Leaky(), Linear(in_features=300, out_features=2, bias=True), Leaky()]\n"
     ]
    }
   ],
   "source": [
    "from args import SNNArgs\n",
    "from model.textcnn import TextCNN\n",
    "from main import *\n",
    "from snntorch import surrogate\n",
    "\n",
    "arg = SNNArgs()\n",
    "build_environment(arg)\n",
    "model = TextCNN(arg, spike_grad=surrogate.fast_sigmoid).to(arg.device)\n",
    "\n",
    "print(list(model._modules.values()))"
   ]
  },
  {
   "cell_type": "code",
   "execution_count": 5,
   "metadata": {},
   "outputs": [
    {
     "name": "stdout",
     "output_type": "stream",
     "text": [
      "Conv2d(1, 100, kernel_size=(3, 100), stride=(1, 1))\n",
      "Conv2d(1, 100, kernel_size=(4, 100), stride=(1, 1))\n",
      "Conv2d(1, 100, kernel_size=(5, 100), stride=(1, 1))\n"
     ]
    }
   ],
   "source": [
    "for c in model.convs_1:\n",
    "    print(c)"
   ]
  },
  {
   "cell_type": "code",
   "execution_count": 7,
   "metadata": {},
   "outputs": [
    {
     "name": "stdout",
     "output_type": "stream",
     "text": [
      "tensor([1, 2, 3], device='cuda:0')\n",
      "True\n",
      "tensor([2, 3, 4], device='cuda:0')\n"
     ]
    }
   ],
   "source": [
    "t = torch.tensor([1,2,3]).to(\"cuda\")\n",
    "print(t)\n",
    "a = t.clone().detach()\n",
    "t.add_(1)\n",
    "print(a.shape == t.shape)\n",
    "print(t)"
   ]
  }
 ],
 "metadata": {
  "kernelspec": {
   "display_name": "Python 3.7.12 ('snn')",
   "language": "python",
   "name": "python3"
  },
  "language_info": {
   "codemirror_mode": {
    "name": "ipython",
    "version": 3
   },
   "file_extension": ".py",
   "mimetype": "text/x-python",
   "name": "python",
   "nbconvert_exporter": "python",
   "pygments_lexer": "ipython3",
   "version": "3.7.12"
  },
  "orig_nbformat": 4,
  "vscode": {
   "interpreter": {
    "hash": "5c9a23b8f89f40735c253a563ef374c9d43d15f9bebee9bb2e4d8f4961462ee7"
   }
  }
 },
 "nbformat": 4,
 "nbformat_minor": 2
}
