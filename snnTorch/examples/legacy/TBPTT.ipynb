{
 "cells": [
  {
   "cell_type": "markdown",
   "source": [
    "# snnTorch - Tutorial 4\n",
    "### By Jason K. Eshraghian"
   ],
   "metadata": {
    "collapsed": false,
    "pycharm": {
     "name": "#%% md\n"
    }
   }
  },
  {
   "cell_type": "markdown",
   "source": [
    "Note: explanation is yet to be added. For now, only code is updated to show how to automatically implement TBPTT.\n",
    "\n",
    "# Truncated Backpropagation through time\n",
    "In this tutorial, we'll use a convolutional neural network (CNN) to classify the MNIST dataset.\n",
    "We will use the truncated backpropagation through time (BPTT) algorithm to do so. This tutorial is largely the same as tutorial 2, just with a different network architecture to show how to integrate convolutions with snnTorch.\n",
    "\n",
    "If running in Google Colab:\n",
    "* Ensure you are connected to GPU by checking Runtime > Change runtime type > Hardware accelerator: GPU\n",
    "* Next, install the Test PyPi distribution of snnTorch by clicking into the following cell and pressing `Shift+Enter`."
   ],
   "metadata": {
    "collapsed": false
   }
  },
  {
   "cell_type": "code",
   "execution_count": 2,
   "source": [
    "# Install the test PyPi Distribution of snntorch\n",
    "!pip install -i https://test.pypi.org/simple/ snntorch"
   ],
   "outputs": [
    {
     "output_type": "stream",
     "name": "stdout",
     "text": [
      "Looking in indexes: https://test.pypi.org/simple/\n",
      "Requirement already satisfied: snntorch in c:\\users\\jason\\dropbox\\repos\\snntorch (0.0.7)\n"
     ]
    }
   ],
   "metadata": {
    "collapsed": false,
    "pycharm": {
     "name": "#%%\n"
    }
   }
  },
  {
   "cell_type": "markdown",
   "source": [
    "## 1. Setting up the Static MNIST Dataset\n",
    "### 1.1. Import packages and setup environment"
   ],
   "metadata": {
    "collapsed": false,
    "pycharm": {
     "name": "#%% md\n"
    }
   }
  },
  {
   "cell_type": "code",
   "execution_count": 3,
   "source": [
    "import snntorch as snn\n",
    "from snntorch import backprop as bp\n",
    "import torch\n",
    "import torch.nn as nn\n",
    "import torch.nn.functional as F\n",
    "from torch.utils.data import DataLoader\n",
    "from torchvision import datasets, transforms\n",
    "import numpy as np\n",
    "import itertools\n",
    "import matplotlib.pyplot as plt"
   ],
   "outputs": [],
   "metadata": {
    "collapsed": false,
    "pycharm": {
     "name": "#%%\n"
    }
   }
  },
  {
   "cell_type": "markdown",
   "source": [
    "### 1.2 Define network and SNN parameters\n",
    "We will use a 2conv-2MaxPool-FCN architecture for a sequence of 25 time steps.\n",
    "\n",
    "* `alpha` is the decay rate of the synaptic current of a neuron\n",
    "* `beta` is the decay rate of the membrane potential of a neuron"
   ],
   "metadata": {
    "collapsed": false
   }
  },
  {
   "cell_type": "code",
   "execution_count": 4,
   "source": [
    "# Network Architecture\n",
    "num_inputs = 28*28\n",
    "num_hidden = 1000\n",
    "num_outputs = 10\n",
    "\n",
    "# Training Parameters\n",
    "batch_size=128\n",
    "data_path='/data/mnist'\n",
    "\n",
    "# Temporal Dynamics\n",
    "num_steps = 25\n",
    "time_step = 1e-3\n",
    "tau_mem = 4e-3\n",
    "tau_syn = 3e-3\n",
    "alpha = float(np.exp(-time_step/tau_syn))\n",
    "beta = float(np.exp(-time_step/tau_mem))\n",
    "\n",
    "dtype = torch.float\n",
    "device = torch.device(\"cuda\") if torch.cuda.is_available() else torch.device(\"cpu\")"
   ],
   "outputs": [],
   "metadata": {
    "collapsed": false,
    "pycharm": {
     "name": "#%%\n"
    }
   }
  },
  {
   "cell_type": "markdown",
   "source": [
    "### 1.3 Download MNIST Dataset\n",
    "To see how to construct a validation set, refer to Tutorial 1."
   ],
   "metadata": {
    "collapsed": false,
    "pycharm": {
     "name": "#%% md\n"
    }
   }
  },
  {
   "cell_type": "code",
   "execution_count": 5,
   "source": [
    "# Define a transform\n",
    "transform = transforms.Compose([\n",
    "            transforms.Resize((28, 28)),\n",
    "            transforms.Grayscale(),\n",
    "            transforms.ToTensor(),\n",
    "            transforms.Normalize((0,), (1,))])\n",
    "\n",
    "mnist_train = datasets.MNIST(data_path, train=True, download=True, transform=transform)\n",
    "mnist_test = datasets.MNIST(data_path, train=False, download=True, transform=transform)"
   ],
   "outputs": [],
   "metadata": {
    "collapsed": false,
    "pycharm": {
     "name": "#%%\n"
    }
   }
  },
  {
   "cell_type": "markdown",
   "source": [
    "### 1.4 Create DataLoaders"
   ],
   "metadata": {
    "collapsed": false,
    "pycharm": {
     "name": "#%% md\n"
    }
   }
  },
  {
   "cell_type": "code",
   "execution_count": 6,
   "source": [
    "train_loader = DataLoader(mnist_train, batch_size=batch_size, shuffle=True, drop_last=True)\r\n",
    "test_loader = DataLoader(mnist_test, batch_size=batch_size, shuffle=True, drop_last=True)"
   ],
   "outputs": [],
   "metadata": {
    "collapsed": false,
    "pycharm": {
     "name": "#%%\n"
    }
   }
  },
  {
   "cell_type": "markdown",
   "source": [
    "## 2. Define Network\n",
    "snnTorch contains a series of neuron models and related functions to ease the training process.\n",
    "Neurons are treated as activations with recurrent connections, and integrate smoothly with PyTorch's pre-existing layer functions.\n",
    "* `snntorch.Stein` is a simple Leaky Integrate and Fire (LIF) neuron. Specifically, it uses Stein's model which assumes instantaneous rise times for synaptic current and membrane potential.\n",
    "* `snntorch.FastSigmoidSurrogate` defines separate forward and backward functions. The forward function is a Heaviside step function for spike generation. The backward function is the derivative of a fast sigmoid function, to ensure continuous differentiability.\n",
    "FSS is mostly derived from:\n",
    "\n",
    ">Neftci, E. O., Mostafa, H., and Zenke, F. (2019) Surrogate Gradient Learning in Spiking Neural Networks. https://arxiv.org/abs/1901/09948\n",
    "\n",
    "There are a few other surrogate gradient functions included.\n",
    "`snn.slope` is a variable that defines the slope of the backward surrogate.\n",
    "TO-DO: Include visualisation.\n"
   ],
   "metadata": {
    "collapsed": false,
    "pycharm": {
     "name": "#%% md\n"
    }
   }
  },
  {
   "cell_type": "markdown",
   "source": [
    "Now we can define our spiking neural network (SNN).\r\n",
    "If you have already worked through Tutorial 2, you may wish to skip ahead.\r\n",
    "\r\n",
    "The init_hidden argument will initialize the hidden states & spike outputs as instance variables.\r\n",
    "Although the forward method looks messier with the calls to these instance variables, it eliminates the need to detach all the variables from the computational graph manually."
   ],
   "metadata": {
    "collapsed": false,
    "pycharm": {
     "name": "#%% md\n"
    }
   }
  },
  {
   "cell_type": "code",
   "execution_count": 7,
   "source": [
    "class Net(nn.Module):\r\n",
    "    def __init__(self):\r\n",
    "        super().__init__()\r\n",
    "\r\n",
    "    # initialize layers\r\n",
    "        snn.LIF.clear_instances() # boilerplate\r\n",
    "        self.fc1 = nn.Linear(num_inputs, num_hidden)\r\n",
    "        self.lif1 = snn.Stein(alpha=alpha, beta=beta, num_inputs=num_hidden, batch_size=batch_size, init_hidden=True)\r\n",
    "        self.fc2 = nn.Linear(num_hidden, num_outputs)\r\n",
    "        self.lif2 = snn.Stein(alpha=alpha, beta=beta, num_inputs=num_outputs, batch_size=batch_size, init_hidden=True)\r\n",
    "\r\n",
    "\r\n",
    "    def forward(self, x):\r\n",
    "        cur1 = self.fc1(x)\r\n",
    "        self.lif1.spk1, self.lif1.syn1, self.lif1.mem1 = self.lif1(cur1, self.lif1.syn, self.lif1.mem)\r\n",
    "        cur2 = self.fc2(self.lif1.spk)\r\n",
    "        self.lif2.spk, self.lif2.syn, self.lif2.mem = self.lif2(cur2, self.lif2.syn, self.lif2.mem)\r\n",
    "\r\n",
    "        return self.lif2.spk, self.lif2.mem\r\n",
    "\r\n",
    "net = Net().to(device)"
   ],
   "outputs": [],
   "metadata": {
    "collapsed": false,
    "pycharm": {
     "name": "#%%\n"
    }
   }
  },
  {
   "cell_type": "markdown",
   "source": [
    "## 3. Training\n",
    "Time for training! Let's define our train and test functions."
   ],
   "metadata": {
    "collapsed": false,
    "pycharm": {
     "name": "#%% md\n"
    }
   }
  },
  {
   "cell_type": "code",
   "execution_count": 8,
   "source": [
    "def train(net, device, train_loader, optimizer, criterion, epoch):\r\n",
    "    for batch_idx, (data, target) in enumerate(train_loader):\r\n",
    "        data, target = data.to(device), target.to(device)\r\n",
    "\r\n",
    "        loss = bp.TBPTT(net, data, target, num_steps, batch_size, optimizer, criterion, K=K)\r\n",
    "        # loss = bp.BPTT(net, data, target, num_steps, batch_size, optimizer, criterion)\r\n",
    "\r\n",
    "        if batch_idx % 20 == 0:\r\n",
    "            print(f\"Train Epoch: {epoch} [{batch_idx*len(data)}/{len(train_loader.dataset)}], \"\r\n",
    "                  f\"Loss: {loss.item()}\")\r\n",
    "    loss_hist.append(loss.item())  # only recording at the end of each epoch\r\n",
    "\r\n",
    "\r\n",
    "def test(net, device, test_loader, criterion):\r\n",
    "    net.eval()\r\n",
    "    test_loss = 0\r\n",
    "    correct = 0\r\n",
    "    with torch.no_grad():\r\n",
    "        for data, target in test_loader:\r\n",
    "            data, target = data.to(device), target.to(device)\r\n",
    "\r\n",
    "            spk2_rec = []\r\n",
    "            snn.Stein.zeros_hidden()  # reset hidden states to 0\r\n",
    "            if data.size()[0] == batch_size:\r\n",
    "                for step in range(num_steps):\r\n",
    "                    spk2, mem2 = net(data.view(batch_size, -1))\r\n",
    "                    spk2_rec.append(spk2)\r\n",
    "\r\n",
    "                # Test Loss where batch=128; only calc on final time step\r\n",
    "                # log_p_ytest = log_softmax_fn(mem2)\r\n",
    "                test_loss += criterion(mem2, target)\r\n",
    "                # Test Acc where batch=128\r\n",
    "                _, idx = torch.stack(spk2_rec, dim=0).sum(dim=0).max(1)  # predicted indexes\r\n",
    "                correct += sum((target == idx).cpu().numpy())\r\n",
    "                # print(correct)\r\n",
    "\r\n",
    "            else:  # Handle drop_last = False\r\n",
    "                temp_data = torch.zeros((batch_size, *(data[0].size())), dtype=dtype, device=device)  # pad out temp_data now\r\n",
    "                temp_data[:(data.size()[0])] = data\r\n",
    "\r\n",
    "                for step in range(num_steps):\r\n",
    "                    spk2, mem2 = net(temp_data.view(batch_size, -1))\r\n",
    "                    spk2_rec.append(spk2)\r\n",
    "\r\n",
    "                # Test set loss - only calc on the final time-step\r\n",
    "                # log_p_ytest = log_softmax_fn(mem2[:data.size()[0]])\r\n",
    "                test_loss += criterion(mem2[:data.size()[0]], target)\r\n",
    "                # Test Acc where batch=128\r\n",
    "                _, idx = torch.stack(spk2_rec, dim=0).sum(dim=0).max(1)  # predicted indexes\r\n",
    "                correct += sum((target == idx[:data.size()[0]]).cpu().numpy())\r\n",
    "\r\n",
    "        test_loss_hist.append(test_loss.item())\r\n",
    "        test_acc = correct / len(test_loader.dataset)\r\n",
    "        print(f\"\\nTest set: Average loss: {(test_loss/(len(test_loader.dataset)/batch_size))}, Accuracy: [{correct}/{len(test_loader.dataset)}] ({(correct/len(test_loader.dataset))})\\n\"\r\n",
    "              f\"=====================\\n\")\r\n",
    "\r\n",
    "        return test_loss, test_acc, spk2_rec"
   ],
   "outputs": [],
   "metadata": {
    "collapsed": false,
    "pycharm": {
     "name": "#%%\n"
    }
   }
  },
  {
   "cell_type": "markdown",
   "source": [
    "### 3.1 Optimizer & Loss\n",
    "* *Output Activation*: We'll apply the softmax function to the membrane potentials of the output layer, rather than the spikes.\n",
    "* *Loss*: This will then be used to calculate the negative log-likelihood loss.\n",
    "By encouraging the membrane of the correct neuron class to reach the threshold, we expect that neuron will fire more frequently.\n",
    "The loss could be applied to the spike count as well, but the membrane is  continuous whereas spike count is discrete.\n",
    "* *Optimizer*: The Adam optimizer is used for weight updates.\n",
    "* *Accuracy*: Accuracy is measured by counting the spikes of the output neurons. The neuron that fires the most frequently will be our predicted class.\n"
   ],
   "metadata": {
    "collapsed": false,
    "pycharm": {
     "name": "#%% md\n"
    }
   }
  },
  {
   "cell_type": "markdown",
   "source": [
    "### 3.2 Training Loop\n",
    "Now just sit back, relax, and wait for convergence."
   ],
   "metadata": {
    "collapsed": false,
    "pycharm": {
     "name": "#%% md\n"
    }
   }
  },
  {
   "cell_type": "code",
   "execution_count": 9,
   "source": [
    "no_trials = 1\r\n",
    "# lr_values = [1e-3, 5e-4, 1e-4] # these values are good\r\n",
    "lr_values = [1e-4]\r\n",
    "batch_size = 128\r\n",
    "data_path = '/data/mnist'\r\n",
    "# subset = 50  # can remove this line in Colab\r\n",
    "num_steps = 25\r\n",
    "epochs = 1\r\n",
    "betas = (0.9, 0.999)\r\n",
    "K = 25  # number of time steps to accumulate over -- right now I'm using BPTT anyway so this is ignored\r\n",
    "SAVE_GOOGLE_COLAB = False\r\n",
    "dtype = torch.float\r\n",
    "device = torch.device(\"cuda\") if torch.cuda.is_available() else torch.device(\"cpu\")\r\n",
    "transform = transforms.Compose([\r\n",
    "    transforms.Resize((28, 28)),\r\n",
    "    transforms.Grayscale(),\r\n",
    "    transforms.ToTensor(),\r\n",
    "    transforms.Normalize((0,), (1,))\r\n",
    "])\r\n",
    "mnist_train = datasets.MNIST(data_path, train=True, download=True, transform=transform)\r\n",
    "mnist_test = datasets.MNIST(data_path, train=False, download=True, transform=transform)\r\n",
    "# mnist_train = data_subset(mnist_train, subset)  # reduce dataset by x100 - can remove this line in Colab\r\n",
    "# mnist_test = data_subset(mnist_test, subset)\r\n",
    "train_loader = DataLoader(mnist_train, batch_size=batch_size, shuffle=True, drop_last=True)\r\n",
    "test_loader = DataLoader(mnist_test, batch_size=batch_size, shuffle=True, drop_last=False)\r\n",
    "\r\n",
    "# Adam\r\n",
    "# df = pd.DataFrame(columns=['lr', 'epoch', 'test_set_loss', 'test_set_accuracy'])\r\n",
    "for i in range(no_trials):\r\n",
    "    for lr in lr_values:\r\n",
    "        net = Net().to(device)\r\n",
    "        optimizer = torch.optim.Adam(net.parameters(), lr=lr, betas=betas)\r\n",
    "        # log_softmax_fn = nn.LogSoftmax(dim=-1)\r\n",
    "        criterion = nn.CrossEntropyLoss() # note: CrossEntropy dims must be B x num_classes. Can increase dimensionality, read docs.\r\n",
    "\r\n",
    "        loss_hist = []\r\n",
    "        test_loss_hist = []\r\n",
    "        print(f\"========Trial: {i}, Learning Rate: {lr}\")\r\n",
    "        for epoch in range(epochs):\r\n",
    "            train(net, device, train_loader, optimizer, criterion, epoch)\r\n",
    "            test_loss, test_acc, _ = test(net, device, test_loader, criterion)\r\n",
    "\r\n",
    "            # df = df.append(\r\n",
    "            #     {'trial': i, 'lr': lr, 'epoch': epoch, 'test_set_loss': test_loss.item(),\r\n",
    "            #      'test_set_accuracy': test_acc}, ignore_index=True)\r\n",
    "            # df.to_csv('Adam_BPTT2.csv', index=False)\r\n",
    "            # if SAVE_GOOGLE_COLAB:\r\n",
    "            #     shutil.copy(\"Adam_BPTT.csv\", \"/content/Adam_BPTT.csv\")\r\n",
    "\r\n",
    "\r\n",
    "loss_hist_true_grad = loss_hist\r\n",
    "test_loss_hist_true_grad = test_loss_hist"
   ],
   "outputs": [
    {
     "output_type": "stream",
     "name": "stdout",
     "text": [
      "========Trial: 0, Learning Rate: 0.0001\n",
      "Train Epoch: 0 [0/60000], Loss: 87.99430084228516\n",
      "Train Epoch: 0 [2560/60000], Loss: 31.979496002197266\n",
      "Train Epoch: 0 [5120/60000], Loss: 20.729297637939453\n",
      "Train Epoch: 0 [7680/60000], Loss: 21.22612762451172\n",
      "Train Epoch: 0 [10240/60000], Loss: 17.037744522094727\n",
      "Train Epoch: 0 [12800/60000], Loss: 16.702619552612305\n",
      "Train Epoch: 0 [15360/60000], Loss: 15.043231010437012\n",
      "Train Epoch: 0 [17920/60000], Loss: 15.852062225341797\n",
      "Train Epoch: 0 [20480/60000], Loss: 18.419878005981445\n",
      "Train Epoch: 0 [23040/60000], Loss: 15.934926986694336\n",
      "Train Epoch: 0 [25600/60000], Loss: 14.167062759399414\n",
      "Train Epoch: 0 [28160/60000], Loss: 13.726014137268066\n"
     ]
    },
    {
     "output_type": "error",
     "ename": "KeyboardInterrupt",
     "evalue": "",
     "traceback": [
      "\u001b[1;31m---------------------------------------------------------------------------\u001b[0m",
      "\u001b[1;31mKeyboardInterrupt\u001b[0m                         Traceback (most recent call last)",
      "\u001b[1;32m<ipython-input-9-8c324fbb3d18>\u001b[0m in \u001b[0;36m<module>\u001b[1;34m\u001b[0m\n\u001b[0;32m     38\u001b[0m         \u001b[0mprint\u001b[0m\u001b[1;33m(\u001b[0m\u001b[1;34mf\"========Trial: {i}, Learning Rate: {lr}\"\u001b[0m\u001b[1;33m)\u001b[0m\u001b[1;33m\u001b[0m\u001b[1;33m\u001b[0m\u001b[0m\n\u001b[0;32m     39\u001b[0m         \u001b[1;32mfor\u001b[0m \u001b[0mepoch\u001b[0m \u001b[1;32min\u001b[0m \u001b[0mrange\u001b[0m\u001b[1;33m(\u001b[0m\u001b[0mepochs\u001b[0m\u001b[1;33m)\u001b[0m\u001b[1;33m:\u001b[0m\u001b[1;33m\u001b[0m\u001b[1;33m\u001b[0m\u001b[0m\n\u001b[1;32m---> 40\u001b[1;33m             \u001b[0mtrain\u001b[0m\u001b[1;33m(\u001b[0m\u001b[0mnet\u001b[0m\u001b[1;33m,\u001b[0m \u001b[0mdevice\u001b[0m\u001b[1;33m,\u001b[0m \u001b[0mtrain_loader\u001b[0m\u001b[1;33m,\u001b[0m \u001b[0moptimizer\u001b[0m\u001b[1;33m,\u001b[0m \u001b[0mcriterion\u001b[0m\u001b[1;33m,\u001b[0m \u001b[0mepoch\u001b[0m\u001b[1;33m)\u001b[0m\u001b[1;33m\u001b[0m\u001b[1;33m\u001b[0m\u001b[0m\n\u001b[0m\u001b[0;32m     41\u001b[0m             \u001b[0mtest_loss\u001b[0m\u001b[1;33m,\u001b[0m \u001b[0mtest_acc\u001b[0m\u001b[1;33m,\u001b[0m \u001b[0m_\u001b[0m \u001b[1;33m=\u001b[0m \u001b[0mtest\u001b[0m\u001b[1;33m(\u001b[0m\u001b[0mnet\u001b[0m\u001b[1;33m,\u001b[0m \u001b[0mdevice\u001b[0m\u001b[1;33m,\u001b[0m \u001b[0mtest_loader\u001b[0m\u001b[1;33m,\u001b[0m \u001b[0mcriterion\u001b[0m\u001b[1;33m)\u001b[0m\u001b[1;33m\u001b[0m\u001b[1;33m\u001b[0m\u001b[0m\n\u001b[0;32m     42\u001b[0m \u001b[1;33m\u001b[0m\u001b[0m\n",
      "\u001b[1;32m<ipython-input-8-6517550222a6>\u001b[0m in \u001b[0;36mtrain\u001b[1;34m(net, device, train_loader, optimizer, criterion, epoch)\u001b[0m\n\u001b[0;32m      3\u001b[0m         \u001b[0mdata\u001b[0m\u001b[1;33m,\u001b[0m \u001b[0mtarget\u001b[0m \u001b[1;33m=\u001b[0m \u001b[0mdata\u001b[0m\u001b[1;33m.\u001b[0m\u001b[0mto\u001b[0m\u001b[1;33m(\u001b[0m\u001b[0mdevice\u001b[0m\u001b[1;33m)\u001b[0m\u001b[1;33m,\u001b[0m \u001b[0mtarget\u001b[0m\u001b[1;33m.\u001b[0m\u001b[0mto\u001b[0m\u001b[1;33m(\u001b[0m\u001b[0mdevice\u001b[0m\u001b[1;33m)\u001b[0m\u001b[1;33m\u001b[0m\u001b[1;33m\u001b[0m\u001b[0m\n\u001b[0;32m      4\u001b[0m \u001b[1;33m\u001b[0m\u001b[0m\n\u001b[1;32m----> 5\u001b[1;33m         \u001b[0mloss\u001b[0m \u001b[1;33m=\u001b[0m \u001b[0mbp\u001b[0m\u001b[1;33m.\u001b[0m\u001b[0mTBPTT\u001b[0m\u001b[1;33m(\u001b[0m\u001b[0mnet\u001b[0m\u001b[1;33m,\u001b[0m \u001b[0mdata\u001b[0m\u001b[1;33m,\u001b[0m \u001b[0mtarget\u001b[0m\u001b[1;33m,\u001b[0m \u001b[0mnum_steps\u001b[0m\u001b[1;33m,\u001b[0m \u001b[0mbatch_size\u001b[0m\u001b[1;33m,\u001b[0m \u001b[0moptimizer\u001b[0m\u001b[1;33m,\u001b[0m \u001b[0mcriterion\u001b[0m\u001b[1;33m,\u001b[0m \u001b[0mK\u001b[0m\u001b[1;33m=\u001b[0m\u001b[0mK\u001b[0m\u001b[1;33m)\u001b[0m\u001b[1;33m\u001b[0m\u001b[1;33m\u001b[0m\u001b[0m\n\u001b[0m\u001b[0;32m      6\u001b[0m         \u001b[1;31m# loss = bp.BPTT(net, data, target, num_steps, batch_size, optimizer, criterion)\u001b[0m\u001b[1;33m\u001b[0m\u001b[1;33m\u001b[0m\u001b[1;33m\u001b[0m\u001b[0m\n\u001b[0;32m      7\u001b[0m \u001b[1;33m\u001b[0m\u001b[0m\n",
      "\u001b[1;32m~\\Dropbox\\repos\\snntorch\\snntorch\\backprop.py\u001b[0m in \u001b[0;36mTBPTT\u001b[1;34m(net, data, target, num_steps, batch_size, optimizer, criterion, K)\u001b[0m\n\u001b[0;32m     30\u001b[0m     \u001b[0mloss_avg\u001b[0m \u001b[1;33m=\u001b[0m \u001b[1;36m0\u001b[0m\u001b[1;33m\u001b[0m\u001b[1;33m\u001b[0m\u001b[0m\n\u001b[0;32m     31\u001b[0m     \u001b[1;32mfor\u001b[0m \u001b[0mstep\u001b[0m \u001b[1;32min\u001b[0m \u001b[0mrange\u001b[0m\u001b[1;33m(\u001b[0m\u001b[0mnum_steps\u001b[0m\u001b[1;33m)\u001b[0m\u001b[1;33m:\u001b[0m\u001b[1;33m\u001b[0m\u001b[1;33m\u001b[0m\u001b[0m\n\u001b[1;32m---> 32\u001b[1;33m         \u001b[0mspk_out\u001b[0m\u001b[1;33m,\u001b[0m \u001b[0mmem_out\u001b[0m \u001b[1;33m=\u001b[0m \u001b[0mnet\u001b[0m\u001b[1;33m(\u001b[0m\u001b[0mdata\u001b[0m\u001b[1;33m.\u001b[0m\u001b[0mview\u001b[0m\u001b[1;33m(\u001b[0m\u001b[0mbatch_size\u001b[0m\u001b[1;33m,\u001b[0m \u001b[1;33m-\u001b[0m\u001b[1;36m1\u001b[0m\u001b[1;33m)\u001b[0m\u001b[1;33m)\u001b[0m\u001b[1;33m\u001b[0m\u001b[1;33m\u001b[0m\u001b[0m\n\u001b[0m\u001b[0;32m     33\u001b[0m         \u001b[0mloss\u001b[0m \u001b[1;33m=\u001b[0m \u001b[0mcriterion\u001b[0m\u001b[1;33m(\u001b[0m\u001b[0mmem_out\u001b[0m\u001b[1;33m,\u001b[0m \u001b[0mtarget\u001b[0m\u001b[1;33m)\u001b[0m\u001b[1;33m\u001b[0m\u001b[1;33m\u001b[0m\u001b[0m\n\u001b[0;32m     34\u001b[0m         \u001b[0mloss_trunc\u001b[0m \u001b[1;33m+=\u001b[0m \u001b[0mloss\u001b[0m\u001b[1;33m\u001b[0m\u001b[1;33m\u001b[0m\u001b[0m\n",
      "\u001b[1;32m~\\anaconda3\\envs\\py367\\lib\\site-packages\\torch\\nn\\modules\\module.py\u001b[0m in \u001b[0;36m_call_impl\u001b[1;34m(self, *input, **kwargs)\u001b[0m\n\u001b[0;32m    720\u001b[0m             \u001b[0mresult\u001b[0m \u001b[1;33m=\u001b[0m \u001b[0mself\u001b[0m\u001b[1;33m.\u001b[0m\u001b[0m_slow_forward\u001b[0m\u001b[1;33m(\u001b[0m\u001b[1;33m*\u001b[0m\u001b[0minput\u001b[0m\u001b[1;33m,\u001b[0m \u001b[1;33m**\u001b[0m\u001b[0mkwargs\u001b[0m\u001b[1;33m)\u001b[0m\u001b[1;33m\u001b[0m\u001b[1;33m\u001b[0m\u001b[0m\n\u001b[0;32m    721\u001b[0m         \u001b[1;32melse\u001b[0m\u001b[1;33m:\u001b[0m\u001b[1;33m\u001b[0m\u001b[1;33m\u001b[0m\u001b[0m\n\u001b[1;32m--> 722\u001b[1;33m             \u001b[0mresult\u001b[0m \u001b[1;33m=\u001b[0m \u001b[0mself\u001b[0m\u001b[1;33m.\u001b[0m\u001b[0mforward\u001b[0m\u001b[1;33m(\u001b[0m\u001b[1;33m*\u001b[0m\u001b[0minput\u001b[0m\u001b[1;33m,\u001b[0m \u001b[1;33m**\u001b[0m\u001b[0mkwargs\u001b[0m\u001b[1;33m)\u001b[0m\u001b[1;33m\u001b[0m\u001b[1;33m\u001b[0m\u001b[0m\n\u001b[0m\u001b[0;32m    723\u001b[0m         for hook in itertools.chain(\n\u001b[0;32m    724\u001b[0m                 \u001b[0m_global_forward_hooks\u001b[0m\u001b[1;33m.\u001b[0m\u001b[0mvalues\u001b[0m\u001b[1;33m(\u001b[0m\u001b[1;33m)\u001b[0m\u001b[1;33m,\u001b[0m\u001b[1;33m\u001b[0m\u001b[1;33m\u001b[0m\u001b[0m\n",
      "\u001b[1;32m<ipython-input-7-edf7cc0c04fb>\u001b[0m in \u001b[0;36mforward\u001b[1;34m(self, x)\u001b[0m\n\u001b[0;32m     13\u001b[0m     \u001b[1;32mdef\u001b[0m \u001b[0mforward\u001b[0m\u001b[1;33m(\u001b[0m\u001b[0mself\u001b[0m\u001b[1;33m,\u001b[0m \u001b[0mx\u001b[0m\u001b[1;33m)\u001b[0m\u001b[1;33m:\u001b[0m\u001b[1;33m\u001b[0m\u001b[1;33m\u001b[0m\u001b[0m\n\u001b[0;32m     14\u001b[0m         \u001b[0mcur1\u001b[0m \u001b[1;33m=\u001b[0m \u001b[0mself\u001b[0m\u001b[1;33m.\u001b[0m\u001b[0mfc1\u001b[0m\u001b[1;33m(\u001b[0m\u001b[0mx\u001b[0m\u001b[1;33m)\u001b[0m\u001b[1;33m\u001b[0m\u001b[1;33m\u001b[0m\u001b[0m\n\u001b[1;32m---> 15\u001b[1;33m         \u001b[0mself\u001b[0m\u001b[1;33m.\u001b[0m\u001b[0mlif1\u001b[0m\u001b[1;33m.\u001b[0m\u001b[0mspk1\u001b[0m\u001b[1;33m,\u001b[0m \u001b[0mself\u001b[0m\u001b[1;33m.\u001b[0m\u001b[0mlif1\u001b[0m\u001b[1;33m.\u001b[0m\u001b[0msyn1\u001b[0m\u001b[1;33m,\u001b[0m \u001b[0mself\u001b[0m\u001b[1;33m.\u001b[0m\u001b[0mlif1\u001b[0m\u001b[1;33m.\u001b[0m\u001b[0mmem1\u001b[0m \u001b[1;33m=\u001b[0m \u001b[0mself\u001b[0m\u001b[1;33m.\u001b[0m\u001b[0mlif1\u001b[0m\u001b[1;33m(\u001b[0m\u001b[0mcur1\u001b[0m\u001b[1;33m,\u001b[0m \u001b[0mself\u001b[0m\u001b[1;33m.\u001b[0m\u001b[0mlif1\u001b[0m\u001b[1;33m.\u001b[0m\u001b[0msyn\u001b[0m\u001b[1;33m,\u001b[0m \u001b[0mself\u001b[0m\u001b[1;33m.\u001b[0m\u001b[0mlif1\u001b[0m\u001b[1;33m.\u001b[0m\u001b[0mmem\u001b[0m\u001b[1;33m)\u001b[0m\u001b[1;33m\u001b[0m\u001b[1;33m\u001b[0m\u001b[0m\n\u001b[0m\u001b[0;32m     16\u001b[0m         \u001b[0mcur2\u001b[0m \u001b[1;33m=\u001b[0m \u001b[0mself\u001b[0m\u001b[1;33m.\u001b[0m\u001b[0mfc2\u001b[0m\u001b[1;33m(\u001b[0m\u001b[0mself\u001b[0m\u001b[1;33m.\u001b[0m\u001b[0mlif1\u001b[0m\u001b[1;33m.\u001b[0m\u001b[0mspk\u001b[0m\u001b[1;33m)\u001b[0m\u001b[1;33m\u001b[0m\u001b[1;33m\u001b[0m\u001b[0m\n\u001b[0;32m     17\u001b[0m         \u001b[0mself\u001b[0m\u001b[1;33m.\u001b[0m\u001b[0mlif2\u001b[0m\u001b[1;33m.\u001b[0m\u001b[0mspk\u001b[0m\u001b[1;33m,\u001b[0m \u001b[0mself\u001b[0m\u001b[1;33m.\u001b[0m\u001b[0mlif2\u001b[0m\u001b[1;33m.\u001b[0m\u001b[0msyn\u001b[0m\u001b[1;33m,\u001b[0m \u001b[0mself\u001b[0m\u001b[1;33m.\u001b[0m\u001b[0mlif2\u001b[0m\u001b[1;33m.\u001b[0m\u001b[0mmem\u001b[0m \u001b[1;33m=\u001b[0m \u001b[0mself\u001b[0m\u001b[1;33m.\u001b[0m\u001b[0mlif2\u001b[0m\u001b[1;33m(\u001b[0m\u001b[0mcur2\u001b[0m\u001b[1;33m,\u001b[0m \u001b[0mself\u001b[0m\u001b[1;33m.\u001b[0m\u001b[0mlif2\u001b[0m\u001b[1;33m.\u001b[0m\u001b[0msyn\u001b[0m\u001b[1;33m,\u001b[0m \u001b[0mself\u001b[0m\u001b[1;33m.\u001b[0m\u001b[0mlif2\u001b[0m\u001b[1;33m.\u001b[0m\u001b[0mmem\u001b[0m\u001b[1;33m)\u001b[0m\u001b[1;33m\u001b[0m\u001b[1;33m\u001b[0m\u001b[0m\n",
      "\u001b[1;32m~\\anaconda3\\envs\\py367\\lib\\site-packages\\torch\\nn\\modules\\module.py\u001b[0m in \u001b[0;36m_call_impl\u001b[1;34m(self, *input, **kwargs)\u001b[0m\n\u001b[0;32m    720\u001b[0m             \u001b[0mresult\u001b[0m \u001b[1;33m=\u001b[0m \u001b[0mself\u001b[0m\u001b[1;33m.\u001b[0m\u001b[0m_slow_forward\u001b[0m\u001b[1;33m(\u001b[0m\u001b[1;33m*\u001b[0m\u001b[0minput\u001b[0m\u001b[1;33m,\u001b[0m \u001b[1;33m**\u001b[0m\u001b[0mkwargs\u001b[0m\u001b[1;33m)\u001b[0m\u001b[1;33m\u001b[0m\u001b[1;33m\u001b[0m\u001b[0m\n\u001b[0;32m    721\u001b[0m         \u001b[1;32melse\u001b[0m\u001b[1;33m:\u001b[0m\u001b[1;33m\u001b[0m\u001b[1;33m\u001b[0m\u001b[0m\n\u001b[1;32m--> 722\u001b[1;33m             \u001b[0mresult\u001b[0m \u001b[1;33m=\u001b[0m \u001b[0mself\u001b[0m\u001b[1;33m.\u001b[0m\u001b[0mforward\u001b[0m\u001b[1;33m(\u001b[0m\u001b[1;33m*\u001b[0m\u001b[0minput\u001b[0m\u001b[1;33m,\u001b[0m \u001b[1;33m**\u001b[0m\u001b[0mkwargs\u001b[0m\u001b[1;33m)\u001b[0m\u001b[1;33m\u001b[0m\u001b[1;33m\u001b[0m\u001b[0m\n\u001b[0m\u001b[0;32m    723\u001b[0m         for hook in itertools.chain(\n\u001b[0;32m    724\u001b[0m                 \u001b[0m_global_forward_hooks\u001b[0m\u001b[1;33m.\u001b[0m\u001b[0mvalues\u001b[0m\u001b[1;33m(\u001b[0m\u001b[1;33m)\u001b[0m\u001b[1;33m,\u001b[0m\u001b[1;33m\u001b[0m\u001b[1;33m\u001b[0m\u001b[0m\n",
      "\u001b[1;32m~\\Dropbox\\repos\\snntorch\\snntorch\\__init__.py\u001b[0m in \u001b[0;36mforward\u001b[1;34m(self, input_, syn, mem)\u001b[0m\n\u001b[0;32m    141\u001b[0m         \u001b[1;31m# intended for truncated-BPTT where instance variables are hidden states\u001b[0m\u001b[1;33m\u001b[0m\u001b[1;33m\u001b[0m\u001b[1;33m\u001b[0m\u001b[0m\n\u001b[0;32m    142\u001b[0m         \u001b[1;32mif\u001b[0m \u001b[0mself\u001b[0m\u001b[1;33m.\u001b[0m\u001b[0mhidden_init\u001b[0m\u001b[1;33m:\u001b[0m\u001b[1;33m\u001b[0m\u001b[1;33m\u001b[0m\u001b[0m\n\u001b[1;32m--> 143\u001b[1;33m             \u001b[0mself\u001b[0m\u001b[1;33m.\u001b[0m\u001b[0mspk\u001b[0m\u001b[1;33m,\u001b[0m \u001b[0mself\u001b[0m\u001b[1;33m.\u001b[0m\u001b[0mreset\u001b[0m \u001b[1;33m=\u001b[0m \u001b[0mself\u001b[0m\u001b[1;33m.\u001b[0m\u001b[0mfire\u001b[0m\u001b[1;33m(\u001b[0m\u001b[0mself\u001b[0m\u001b[1;33m.\u001b[0m\u001b[0mmem\u001b[0m\u001b[1;33m)\u001b[0m\u001b[1;33m\u001b[0m\u001b[1;33m\u001b[0m\u001b[0m\n\u001b[0m\u001b[0;32m    144\u001b[0m             \u001b[0mself\u001b[0m\u001b[1;33m.\u001b[0m\u001b[0msyn\u001b[0m \u001b[1;33m=\u001b[0m \u001b[0mself\u001b[0m\u001b[1;33m.\u001b[0m\u001b[0malpha\u001b[0m \u001b[1;33m*\u001b[0m \u001b[0mself\u001b[0m\u001b[1;33m.\u001b[0m\u001b[0msyn\u001b[0m \u001b[1;33m+\u001b[0m \u001b[0minput_\u001b[0m\u001b[1;33m\u001b[0m\u001b[1;33m\u001b[0m\u001b[0m\n\u001b[0;32m    145\u001b[0m             \u001b[0mself\u001b[0m\u001b[1;33m.\u001b[0m\u001b[0mmem\u001b[0m \u001b[1;33m=\u001b[0m \u001b[0mself\u001b[0m\u001b[1;33m.\u001b[0m\u001b[0mbeta\u001b[0m \u001b[1;33m*\u001b[0m \u001b[0mself\u001b[0m\u001b[1;33m.\u001b[0m\u001b[0mmem\u001b[0m \u001b[1;33m+\u001b[0m \u001b[0mself\u001b[0m\u001b[1;33m.\u001b[0m\u001b[0msyn\u001b[0m \u001b[1;33m-\u001b[0m \u001b[0mself\u001b[0m\u001b[1;33m.\u001b[0m\u001b[0mreset\u001b[0m\u001b[1;33m\u001b[0m\u001b[1;33m\u001b[0m\u001b[0m\n",
      "\u001b[1;32m~\\Dropbox\\repos\\snntorch\\snntorch\\__init__.py\u001b[0m in \u001b[0;36mfire\u001b[1;34m(self, mem)\u001b[0m\n\u001b[0;32m     33\u001b[0m         \u001b[0mreset\u001b[0m \u001b[1;33m=\u001b[0m \u001b[0mtorch\u001b[0m\u001b[1;33m.\u001b[0m\u001b[0mzeros_like\u001b[0m\u001b[1;33m(\u001b[0m\u001b[0mmem\u001b[0m\u001b[1;33m)\u001b[0m\u001b[1;33m\u001b[0m\u001b[1;33m\u001b[0m\u001b[0m\n\u001b[0;32m     34\u001b[0m         \u001b[0mspk_idx\u001b[0m \u001b[1;33m=\u001b[0m \u001b[1;33m(\u001b[0m\u001b[0mmem_shift\u001b[0m \u001b[1;33m>\u001b[0m \u001b[1;36m0\u001b[0m\u001b[1;33m)\u001b[0m\u001b[1;33m\u001b[0m\u001b[1;33m\u001b[0m\u001b[0m\n\u001b[1;32m---> 35\u001b[1;33m         \u001b[0mreset\u001b[0m\u001b[1;33m[\u001b[0m\u001b[0mspk_idx\u001b[0m\u001b[1;33m]\u001b[0m \u001b[1;33m=\u001b[0m \u001b[0mtorch\u001b[0m\u001b[1;33m.\u001b[0m\u001b[0mones_like\u001b[0m\u001b[1;33m(\u001b[0m\u001b[0mmem\u001b[0m\u001b[1;33m)\u001b[0m\u001b[1;33m[\u001b[0m\u001b[0mspk_idx\u001b[0m\u001b[1;33m]\u001b[0m\u001b[1;33m\u001b[0m\u001b[1;33m\u001b[0m\u001b[0m\n\u001b[0m\u001b[0;32m     36\u001b[0m         \u001b[1;32mreturn\u001b[0m \u001b[0mspk\u001b[0m\u001b[1;33m,\u001b[0m \u001b[0mreset\u001b[0m\u001b[1;33m\u001b[0m\u001b[1;33m\u001b[0m\u001b[0m\n\u001b[0;32m     37\u001b[0m \u001b[1;33m\u001b[0m\u001b[0m\n",
      "\u001b[1;31mKeyboardInterrupt\u001b[0m: "
     ]
    }
   ],
   "metadata": {
    "collapsed": false,
    "pycharm": {
     "name": "#%%\n"
    }
   }
  },
  {
   "cell_type": "markdown",
   "source": [
    "## 4. Results\n",
    "### 4.1 Plot Training/Test Loss"
   ],
   "metadata": {
    "collapsed": false,
    "pycharm": {
     "name": "#%% md\n"
    }
   }
  },
  {
   "cell_type": "code",
   "execution_count": 22,
   "source": [
    "# Plot Loss\n",
    "fig = plt.figure(facecolor=\"w\", figsize=(10, 5))\n",
    "plt.plot(loss_hist)\n",
    "plt.plot(test_loss_hist)\n",
    "plt.legend([\"Test Loss\", \"Train Loss\"])\n",
    "plt.xlabel(\"Epoch\")\n",
    "plt.ylabel(\"Loss\")\n",
    "plt.show()"
   ],
   "outputs": [
    {
     "output_type": "display_data",
     "data": {
      "text/plain": [
       "<Figure size 720x360 with 1 Axes>"
      ],
      "image/png": "[encoded data removed]"
     },
     "metadata": {}
    }
   ],
   "metadata": {
    "collapsed": false,
    "pycharm": {
     "name": "#%%\n"
    }
   }
  },
  {
   "cell_type": "markdown",
   "source": [
    "That's it for static MNIST! Now let's use ``spikeplot`` to watch in real time how the output layer responds to a few different samples."
   ],
   "metadata": {
    "collapsed": false,
    "pycharm": {
     "name": "#%% md\n"
    }
   }
  },
  {
   "cell_type": "code",
   "execution_count": 10,
   "source": [
    "from snntorch import utils\n",
    "# Let's just test on one single batch\n",
    "mnist_anim = datasets.MNIST(data_path, train=False, download=True, transform=transform)\n",
    "mnist_anim = utils.data_subset(mnist_anim, subset=78)\n",
    "anim_loader = DataLoader(mnist_anim, batch_size=batch_size, shuffle=True, drop_last=False)\n",
    "\n",
    "# Pass anim_loader into test\n",
    "_, _, spk_rec = test(net, device, anim_loader, criterion)"
   ],
   "outputs": [
    {
     "output_type": "stream",
     "name": "stdout",
     "text": [
      "\n",
      "Test set: Average loss: 0.15009622275829315, Accuracy: [123/128] (0.9609375)\n",
      "=====================\n",
      "\n"
     ]
    }
   ],
   "metadata": {
    "collapsed": false,
    "pycharm": {
     "name": "#%%\n"
    }
   }
  },
  {
   "cell_type": "code",
   "execution_count": 11,
   "source": [
    "print(f\"Data Size: {anim_loader.dataset[0][0].size()}\")\n",
    "print(f\"Target: {anim_loader.dataset[22][1]}\")"
   ],
   "outputs": [
    {
     "output_type": "stream",
     "name": "stdout",
     "text": [
      "Data Size: torch.Size([1, 28, 28])\n",
      "Target: 6\n"
     ]
    }
   ],
   "metadata": {
    "collapsed": false,
    "pycharm": {
     "name": "#%%\n"
    }
   }
  },
  {
   "cell_type": "code",
   "execution_count": 12,
   "source": [
    "# spk_rec is a T x B x N_outputs tensor\n",
    "# but we only want a single sample, so T x N tensor is input to snnboard\n",
    "torch.stack(spk_rec, dim=0)[:, 0, :].size()"
   ],
   "outputs": [
    {
     "output_type": "execute_result",
     "data": {
      "text/plain": [
       "torch.Size([25, 10])"
      ]
     },
     "metadata": {},
     "execution_count": 12
    }
   ],
   "metadata": {
    "collapsed": false,
    "pycharm": {
     "name": "#%%\n"
    }
   }
  },
  {
   "cell_type": "code",
   "execution_count": 13,
   "source": [
    "spk_results = torch.stack(spk_rec, dim=0)[:, 22, :].to('cpu')\n",
    "print(f\"Total number of spikes at t=T for a single sample:\\n {spk_results.sum(dim=0)}\")"
   ],
   "outputs": [
    {
     "output_type": "stream",
     "name": "stdout",
     "text": [
      "Total number of spikes at t=T for a single sample:\n",
      " tensor([0., 0., 0., 0., 0., 0., 8., 0., 0., 0.])\n"
     ]
    }
   ],
   "metadata": {
    "collapsed": false,
    "pycharm": {
     "name": "#%%\n"
    }
   }
  },
  {
   "cell_type": "code",
   "execution_count": 14,
   "source": [
    "print(f\"Target: {anim_loader.dataset[22][1]}\")\n",
    "plt.figure(facecolor=\"w\")\n",
    "plt.subplot(1,2,1)\n",
    "plt.imshow(anim_loader.dataset[22][0].reshape((28,-1)).cpu(), cmap='plasma')\n",
    "plt.axis('off')\n",
    "plt.show()"
   ],
   "outputs": [
    {
     "output_type": "stream",
     "name": "stdout",
     "text": [
      "Target: 6\n"
     ]
    },
    {
     "output_type": "display_data",
     "data": {
      "text/plain": [
       "<Figure size 432x288 with 1 Axes>"
      ],
      "image/png": "[encoded data removed]"
     },
     "metadata": {}
    }
   ],
   "metadata": {
    "collapsed": false,
    "pycharm": {
     "name": "#%%\n"
    }
   }
  },
  {
   "cell_type": "code",
   "execution_count": 18,
   "source": [
    "import snntorch.spikeplot as sp\n",
    "from IPython.display import HTML\n",
    "\n",
    "fig, ax = plt.subplots(facecolor='w', figsize=(12, 7))\n",
    "labels=['0', '1', '2', '3', '4', '5', '6', '7', '8','9']\n",
    "\n",
    "# animation\n",
    "anim = sp.spike_count(spk_results, fig, ax, labels, animate=True, interpolate=5, num_steps = num_steps, time_step=1e-3)\n",
    "HTML(anim.to_html5_video())\n",
    "# anim.save(\"spike_bar.gif\")\n",
    "\n",
    "# final count\n",
    "# sp.spike_count(spk_results, fig, ax, labels, interpolate=5, num_steps = num_steps, time_step=1e-3)\n",
    "# plt.show()"
   ],
   "outputs": [
    {
     "output_type": "execute_result",
     "data": {
      "text/plain": [
       "<IPython.core.display.HTML object>"
      ],
      "text/html": [
       "<video width=\"864\" height=\"504\" controls autoplay loop>\n",
       "  <source type=\"video/mp4\" src=\"data:video/mp4;base64,AAAAIGZ0eXBNNFYgAAACAE00ViBpc29taXNvMmF2YzEAAAAIZnJlZQAARWltZGF0AAACoAYF//+c\n",
       "3EXpvebZSLeWLNgg2SPu73gyNjQgLSBjb3JlIDE2MSAtIEguMjY0L01QRUctNCBBVkMgY29kZWMg\n",
       "LSBDb3B5bGVmdCAyMDAzLTIwMjAgLSBodHRwOi8vd3d3LnZpZGVvbGFuLm9yZy94MjY0Lmh0bWwg\n",
       "LSBvcHRpb25zOiBjYWJhYz0xIHJlZj0zIGRlYmxvY2s9MTowOjAgYW5hbHlzZT0weDM6MHgxMTMg\n",
       "bWU9aGV4IHN1Ym1lPTcgcHN5PTEgcHN5X3JkPTEuMDA6MC4wMCBtaXhlZF9yZWY9MSBtZV9yYW5n\n",
       "ZT0xNiBjaHJvbWFfbWU9MSB0cmVsbGlzPTEgOHg4ZGN0PTEgY3FtPTAgZGVhZHpvbmU9MjEsMTEg\n",
       "ZmFzdF9wc2tpcD0xIGNocm9tYV9xcF9vZmZzZXQ9LTIgdGhyZWFkcz02IGxvb2thaGVhZF90aHJl\n",
       "YWRzPTEgc2xpY2VkX3RocmVhZHM9MCBucj0wIGRlY2ltYXRlPTEgaW50ZXJsYWNlZD0wIGJsdXJh\n",
       "eV9jb21wYXQ9MCBjb25zdHJhaW5lZF9pbnRyYT0wIGJmcmFtZXM9MyBiX3B5cmFtaWQ9MiBiX2Fk\n",
       "YXB0PTEgYl9iaWFzPTAgZGlyZWN0PTEgd2VpZ2h0Yj0xIG9wZW5fZ29wPTAgd2VpZ2h0cD0yIGtl\n",
       "eWludD0yNTAga2V5aW50X21pbj0yNSBzY2VuZWN1dD00MCBpbnRyYV9yZWZyZXNoPTAgcmNfbG9v\n",
       "a2FoZWFkPTQwIHJjPWNyZiBtYnRyZWU9MSBjcmY9MjMuMCBxY29tcD0wLjYwIHFwbWluPTAgcXBt\n",
       "YXg9NjkgcXBzdGVwPTQgaXBfcmF0aW89MS40MCBhcT0xOjEuMDAAgAAADh5liIQAL//+9q78yytH\n",
       "C5UuHVl7s1Hy6Ely/YgwfWgAAAMAAAMAAAMAAQ+YOPKPYkmR6AAAAwACfhlwAPu6vgc7gA6wEvCa\n",
       "G8sbj18IJ+q8NDNsdunk7y9diOg+/i/31pQZXAX2SIegfQJpJoThIClKEcoy81R+PBLUATsMqWIJ\n",
       "TRCpkGgfdCbkzUg1pB3iAGi40jde0L6J1eENSawmAsv7cxMoJy+TAZUxXDFb/dc+v5E+dEpVLwz3\n",
       "R0t0BgRIE+EGwPHbYhrd50PoZmgtbxWxa3XR7YMRYsVV1YAMjSSmYNzDVHdXrpEoeAzp/6iynKZE\n",
       "eO0DHBEyi1QzVcrkN2J6geXZnMH7v7ziKZkB2zKoFpCWVkLIvfj0BZ0IJTE9RwzOsX7fzRfnwAXO\n",
       "4A+lCiCG0BdY3W5V+ONS3ZuNZNxJPYHyAXXe8u7t+tv/nP/YD+kH3cTx9Ajg0GthtFtUQsL9mXgR\n",
       "n9j555Km3TfeY3XaYnWCl+R/SB95Lj8L1f1+nbWdFpO00907Lzr9irwxun4gdH2ko1C8IY1CDLSd\n",
       "htSYXR6+349/SWbrHBR8JzE13fKfQJcYgS3CevMbz+WLcMpY42qMQtMmWJMyv8B9aaQ9yIYBw9Rj\n",
       "LwS1ZlVqvbH+lUR+bqYBKAa7JoVMZJJHGcW+IMEQDG6+euFzmmXX8IB1kSuQnQusXox7oHa+KoAK\n",
       "WJ8FWojQMnZfLxvriex4Hr4h5XwSRDbG/WX8dUAqDnoUw/AO3R+26jw1uoaqlwOw7ORtgT0qUwoY\n",
       "RecZnzFRHLZSMIZSC1Hf1woxJYf5XjAroSmQC9SlzQUbbyAdmwi8AIBUQ1Omqw5Wm0dMrfDNxMhk\n",
       "CwZM7NJxwEmnjwm1iljNDe0Mit8zP5HZJ67TtSNQ+EWMEbLMZ2XlzyoTQAHCWi7CGC/qZfp0Hgxx\n",
       "d3Y22zdalWwhcPrTYg3uSWgoGPJmYeNPE/l3kJbXeYlLhWluh9P+PzNqlYo1bN9Qjmecb/yjN46i\n",
       "GbNiV+FC+C0nmZscClKNvm1IyAUGMYMDZldEy6926ho4I0Ndro72i+aZV082ZwtgguCXer9tVJwC\n",
       "D3z6bwyq7Qgd1uvCC40gJ45UlmCI1hdO1fE4tNmcw5mnqjauumv995b0axEEhvUO3IsOMeKTKuCn\n",
       "Y/dKjNdDnuVOeECTmCzJo7TrwFn2golQajsblyr6gkuiC/FB5ks+mu3gHUfJsHRHRr0f1indU4Na\n",
       "u2WI7RmdxINCnOxm2L+8PW+cjW37Dc4QXsYnA5sXu4diERiimb+0XN6QBBFMHtSTJbx0VUzINHt8\n",
       "FeHJxbMcRab8DToOkvP3IY97Hkjwio4sZuJ6dC0FlVYV+bsa8rzsfj7KixwTN2hygdPYxp4IZle+\n",
       "DrbsNm2XgqFJsanncRJScDu1iT0z46S1a3bt7VI7zHAn7y4aZkDd4GpBo/WuAt8EOZOcnkt3L3Je\n",
       "vUxgb1DfKA+05Yg8z2qwpd5izQZ+OikXhcPwpmXuztVAfq0cWSVwi15YNh/RrTVmx+RYRvf8mUdq\n",
       "hFvKd+xafluFHYumnW5wQqBiR789MBSKCXQ5liZnNWB/5QZ/OaXY+oB63qpFB8+yyh/VKtJXgDrX\n",
       "8ESdv+P6/bcuL9MDbR4HYtoCuonQytQhuV0QTivqfwfmJT4mhdOjHO1VxWsdGd2rE+myUIOObTxx\n",
       "2K8EqR9QeULdYlFTpEcEo8gWLIpZDkPWV8Vv1hi+1A7olDLj/EmTY1EvBq9XYyyKMt+KlKcBO6ET\n",
       "qsT3eB8Vg965g18hiWr4ZexP0L3zmoiVYE9sVrJNDIqVI8GRhglUrdajyfUg0L7pheFwTX54os6s\n",
       "QvUCib47Ebtp9VkfRmKkSG0nRPcPhIaMexMnCUHR9kaQBQ/NBN4OQxVT8tujFzAEE612ZrMY57vo\n",
       "PDiaBcxFv9JZ8jTxROqa0DQKBqC0Ga0Dof3A5Se7/s//13AB68OPYgokeK5Fq6vaTF2wDMyAKH3l\n",
       "W80APIzprLIS4XW9YdodzV0goaHqTW7HSXreBkcmjI+uk3VGjwhTfpXHbpmge21aK56MsKCwr7hd\n",
       "MuCsS71Jwmmb2tiNtyk8qXZApM3IVJGMeuocili6iyxGxfu6wm9Rob5iIiUxm39CxRh0otNliI9z\n",
       "+NN9+AmXwK9Az/6n3B9NygVVb32gvDwqhSvOG7ChIWoclsvFCu5z16LZwrYifFnWmh1cG9ozS5zt\n",
       "OxE3o15N3wnqUf6aKkPWhaQuskiGT7RblW9D1gQ+S94BierpO6d/31mAna7hBefy11AYh2yik2wK\n",
       "F/4+jMVHwpB6IIuqJ8/7KNFik9nAvkE9NbvV4eCLwbmErnGuCdOZkcCWtYTRGc23ALS1T6vzBcmV\n",
       "PEBpWBL6vljQgc3mwgO0+oZ/ulgSn0Kau1kTsG1QYtYjmIwHql2pdlfWHRA+ThNnqU/GFLkmUYMN\n",
       "6aoks+e/5zSWw/0CC5PzHYjhf/i2M3b0qQk+o2rs0d5Q5MkCT7vasuPv4Y2H3DXBE27/QbksW5Y+\n",
       "SQw5mPoMIwYecehEK4r1IE2b9fzajy8TEHZ2QuZDiR7cR7fVlhF1XHBXo82mFbCIcUdiEIPQt9sN\n",
       "19GAhFVblrhpcUpsA5u8UuIydM4RD9aJNJpIQoBSOf2/lkOaa58HSrv5i6Ywe1Ahyqt1AL15MLCW\n",
       "YjDL7SK6+KMexuVFZA0Tl9sOCt4JATXe4nwd6TuMlk6cyynMnjZPXFZVBMnz9QL/QKGpRuzQLP/M\n",
       "/2qbQORSvH9qTZCexVPt0qU2Vp5aTLBNHtP58H3+oZ5rwGSre97Y7AGjUgAB/1w+vnsKHKLU2sWi\n",
       "frC/XAcyhFb743b5/eTsBONsxq8hBlJ1+Z8aJGKLc4Ul1Wf2b/EvtA07tZP7TQXN1EFca3X0il54\n",
       "p80UJjyTKVxG2PINp9D/WI6SnTlBpyfHUiTor5jauXbF9DCZ3j1vIy2b2nSWtk4OH3uR55/lEyU0\n",
       "mQejU5/8RyH1CtZqLJPikROCE/VVsWfK/lpDnizct/+p5bsKGbC+TPEdZUjhDe2D0MOtlhjZDikl\n",
       "uK22SQ/kf/QfeA1NbGWs7lFl6BkdslBVVbFCXbEePz3bWLTgC7mgnknFd49bkF3PqBM+QZUNwrEH\n",
       "XY0bu6gZK3YrcGJCH9+blZzLjD5d218DKsiZpvY1jAXuwpmbxH7SbfWc8YQxcx7z4GZ4LUHPu9SH\n",
       "23qMjnOBiogMYQhalMeEUOFROAiv2gcsGPWEXqI39HQRIv6VYWTa5UshylU/aw3etqB65xuLrnDc\n",
       "03fII5sVSh3pGVcObZgWOaQg2dinTJiCVER7EphWL6jQXev4/42jrH8hAiGa1bJjXChygDGwovz5\n",
       "SdcsP8KV3C2Gmonuk82Al6e6J6gzjAQEYBynTnQFlq1avSeKMOC3WA/9qZWh9Uoc6dfWWM60ZxVh\n",
       "EBDslCTCNSFJQSMzXh1qlkb293JJYZO1z5jKMxHrB5Z3w62rytbmSOtAI5w6BkBCv7C9RiCHNDaT\n",
       "MJJyUvxMpKyzGaXnF4xayelrFq2yw2+jMUKKGnO0AqWCkMdvaOZ3RvuUO8/cTQ9qOkFBfSrg/lWy\n",
       "jU0Qb7RzgUD8sQajqlpjNhWXMq6zb1vRHSqRN6DPXBbOzlTv11++U9QRe3h97c0EF+YwmlG3IPjD\n",
       "dv7UiOoOK0wEPHp0m7DCIg94DJEhncHi60/6K3i0JB5LqkiqcN3TK+PY24cRfwGqJsX/0Z/giQzf\n",
       "9JBMhj1yB7KQTo9HskujOTuKfK/FESHXu8Q9PMrCXxpHx87HKcc5W8nETAOt6eZSXLYe6CqIOqYI\n",
       "1IQ9AVPo8i77f+ozxTFpnTAvwWe6e+MyPv/IaSWZ1YlZKMP3mffOdMBq1Wxn2Arm/YcJxSczd8u0\n",
       "okvk0mTHkRYPFw6C5rR6+gWhyvYlGdYdIZkGhSagQLrHnrG+evibLaNRtvdvtXcvDLmxIzhI73nI\n",
       "Nu917T2E3Pr7ckMa443z3BPluYJdCSIgsq7yXIfJtAUj4cDxi0s/T5d2TnhCiDH+MLPxoRyEYS19\n",
       "sz8F7Ji4Soy7b3I6bX1aY8mq7cCqIt5MI4bR0wZPlMAMWIyL4pVqvPC1e8FCullbKjc/3+0U3RrD\n",
       "BsPwBrl7YPONOZKmaA5O+ltbdPMzY1GVP9cJR3qi+LTnnE5KqW7Fx2yLd90bAe4Okql/dq/9PhKg\n",
       "b7ZoVY0AKVXSbJ640h+v6Jn7rhA7HQjAKHDDVst1DHyIKkm//iwNCSOnVwsjfT70XaZRrl3+3QzY\n",
       "uSi6TpZj9wvIpv9aNrOti4PbGQ+hFAPyAkOSE3d17xfJyPgxrvUBCZIJr+nGOyiZSrDVasQIyf4T\n",
       "isPASAAcgnT4ECUHBZFMnOo/IVg9YOcaTSvyCAhkeVvHFrZ5NEQ5Wr/EcnURwkFUFrP0AaFqif1U\n",
       "x5Gp189Qxp+InseUG9Ktl2XEEOKUwlcDOXO0JqdAUl+MPv8GRDdZE3gO+LMKqQKx/Fnf+kbK0ZsZ\n",
       "AroKtnENSS/fjXZ53y+vRMaJxFF3L/D6J9zkX5//9FnlmcuIXeeY+95BgU+wobZi4OrwSnyFxzeA\n",
       "AoiTtBV+AFsKV7BCKSB0vZbcr1SMAfHMJa0OTDgdnm5r1Np+ZB01UYCS1GWQzVBhHC1+QXwHKhep\n",
       "I/mISLgFDx1SP279qvG8ajXI/tb0jNpoMGwB6X1vFiqCyOpCQ9nBrTXmVj5jwaieqMqoQnZhJ0d9\n",
       "VsKSs0xte9kAWJ74ZBjMzT9H11spcTp6LNdFY594SiX5cgpmfZ+CvVSRxVX9Vd+yW5gEGI/VoFYk\n",
       "cUAAA6IXGYCFgQAAAzBBmiJsQv/+jLAAZbWnwNP0Co4qr//f8CFhB+PvRY6YpB3yGpB556i3atPH\n",
       "wC0f+gONixdi5TRuo7uriM2bFY+dKPLquyUmLRfzQAN1y1PbdsgIyB7/wuapTBv534d8JkoZJV0f\n",
       "pm9OYE3jrEb6Y5mCpL8pdcm5Z4IdZwLqBkwX056oJLMgTZEtZETtG14djW7M6nNvUB65De72aiEk\n",
       "6E7jRCfpejtnlyNAH13443SdAd3eAAw7bQpe3+Hvu4pTOjRNiaQlRpsMI3LOrG+FEfQvRR+lBfDY\n",
       "suzYvhBsHXznay1pI2Tyhlcs9rmTege7T4EAvAbxlKjs8u40CebsVVN0P2rjsmT9/04uAJekmocF\n",
       "aKPK7agoUtBRYSyifB4VQ/YKdvwNiqqXLuZ80Qu+xiCWuRPJkmeVCg+JIE4+97ZQ7iIUgPiGL9oT\n",
       "syFCP4FmtEmLDfA8lXsLYcXScevawBEnGuV5HaRVwRnYhuvu438S2U600xLB591NtPr8KpgCbuxY\n",
       "i89TJyb79+jjx4kbz4K1URxwZHv129Bo7jsELtueLxBlnVWe/Pifteu7uTDdlOgToSBkSKeWz/Fb\n",
       "5LtNIJCis8clAsRa+NLgPsHV0e3iVrFp0oZprh9AInqEupyATLG+U89FgD9AoFMKfNopl9U8s1Nt\n",
       "KvGuQzCLJ+D2PluJabKa5o0kAE29ZG4SwZ0TKGNWoIM0WOjwB+9Pmn/RZWfRzN2+0emXC+A+t3hR\n",
       "4niBuqtr1q88ck76KEESE8Qy3pogtUq8l8YRkr9WpAX3ULLR1VR+dTzAaeT7NzzU6zKefyqvN6Ms\n",
       "EWz3GWNCEjKOq36NzstukWXnNARrmskMPQqIacya5xBzR5YJR+Rh4kxf2Mv9Qk8MOwJQiJvzDjG3\n",
       "VCDwQ8B8p6UmliJLSVzeSazEvT3fvwgavSwL/35hkXVUl504OkD5qvlQTsoAlvlIDTtetXPTS0SD\n",
       "YMEMcbG8U2zZULVWObUO28Ir3X9frRr/3kO3u1KX3A+zcFIiGEYd3EmDko7HCh6ub7pCQpHNymhu\n",
       "Q6V6gZFYyjuF01RuW6y9AMmDmvk7aQ/02tKFv9xcwIAAAACdAZ5BeQj/AB/BE+AImC5nMOhwH1iy\n",
       "wvEYmCk++Eoa2Lxgr2I5w2y9YYdoV3pOudtKAQanMHHetNPBuZM6PK7GhLC+ZqKExaJotCKBFhLQ\n",
       "3+A7ohyG1xkcnLZVNxl8Rtld+lrJ4vCO6VOG1/m1v9x16Ra3lh1j0zKAkbca8mpqeeKf5JcuAJmy\n",
       "KO2gcivxvQbDJMGupy7CtAFHL4An4QAAAgJBmkQ8IZMphC///oywAGUdmQEkvgP+OMe9oZZD65im\n",
       "HcyiK5qdbaussHALpkCkl9w6qeWtk6qNYADNsLVLYRZSymwvMaN/7QGvjsGmrDOAnQ+Y/zKqvtQa\n",
       "Fi444xLZqN8rq7yHkxhQvUaBpkt0gjwUKRm2uiVWOX5jAI5mOQhm71u9kXofeOndkpm5Ff6zeNPe\n",
       "s5zY1X/jwOW+oO+VtXS/14l9u6EikAY02dqxtvQOv7OFUEX1qmAWqvryrpvgFoSq2vaQNVrC4KRT\n",
       "sxlAP9Yq0YiBfflaA4c0uvYoDFyDACFXDrlMfBLoI2PtNk1hBwdelTBA5U/mP3kgh8iY/Y1SMaQs\n",
       "05i3/UchWIfYI31wFNZkqt+Mtuts97unxf8HlZSNprjE79iS+ZXeYAsY2uSJ02R+zh4t3gPMlOPn\n",
       "F3IFSF9i0Aqx1sBYB2rORoEumI8Jj3tl0aR+Axm2DBm/MZ93nQxC8ni+LzqrjTBp7xwzxoHkCgzo\n",
       "W2p3TnCuD4+A2SAerjx1iaWJY4xjOOCqrGsm5Xagc4tsYA/HC64DnPE7cEv48IAOBdSk7fhjNZvC\n",
       "d4xSiV7ZAavveEizPl3d/etvczTgqC1OftWRX/sumpsuoxN1iU1XLbv1208lX27YgbfpB53438h0\n",
       "Kc3lHD+aEnHxICvn7epAUkgePz0h85H52CsfAAAArwGeY2pCPwAfv+NdfAAH9LqnJlTPHGEuTi1P\n",
       "4ONbVE4arcTisdQiksCewxJGYTBX8mY91VfzU2b+vOs2EW67U5wDkPtst1AafHfWLiOYLcYFu+VC\n",
       "oXgyuu5oFvzP9+UIUyegXGjJqXjXqg8wVRaKx9DAI7QHv5UFjShBFwg111mx2gcMzGvFvfwel8Eb\n",
       "nay1M6zFaeghQamzxJSRcW4X3awh5TJn/TZ2jlbjeIcgBB0AAACjQZpmSeEPJlMFPC///oywAGAr\n",
       "VgABOqryjYdWRs57OQfMGF3Q2RABY+GOzr/mshhWLd1KdabAYGamcHq5c4O46JNWKMmJvnEhpmz0\n",
       "ZoncJtsCVjNHPOBxo6MRcokh2bBenmx/U6LU97w+BDQkziAfw+UL5YJZoeb3OEhxHoshbMbczvF6\n",
       "Nn5Xas/wv8CGT7QSHFmjtFmKCL8xpxATkubxs7AMCQAAAF0BnoVqQj8AHlyO5AAECfUn/BKBlTzE\n",
       "0yWlcsRLPuMsH2NeSpfQpDqMYancnJeyeorYjXVEZ03g6I5zGh4t6ME+vDlknXogBUboy2pKKxLk\n",
       "tjjnPMazb5JLT72YB+UAAACTQZqJSeEPJlMCF//+jLAAYL1uq34GhAAC1t2G7q/CGai8lmtOG0Hj\n",
       "l5+GNyJtYM1QvwilBoP7jYNkt+9scnvtY81s1eOGwki1QZltmCZH5y1t3VFwSeX5o140U88a6hZf\n",
       "e6SCJmNSAQW87J/HaQGAOWkRXMccABUcq+/L0u9NgfSg45HUebY63xVicYw7vWkKBbCxAAAAaUGe\n",
       "p0URPCf/ABnBODxb1SFY0AB+AQB52S1Dy0lEfCbrtTH0mZ+Ban9GHrymwQAaj/V7Yapoqbpp5iHl\n",
       "56dF+pZmWRgiQ3bPvjAOjDj0VFkVHyWKMwXvNHSIgBHJ3JevlRZzkJuK0KC7gAAAAFIBnshqQj8A\n",
       "HbcJDUU8mUAK3+J1N6ENXsCp8fZHzmaimt0QDy9VDJzWjXryQHgMs4DBciu4QjOGtNYvDmyGZtAd\n",
       "7MOmAcDOUWXEyOdF2N7EDg44AAAAU0GaykmoQWiZTAhf//6MsABeOZUmo1aDmovhWAr16nSa3I0O\n",
       "x0GJ3r9VtA7A9AZ7xQ2nHK1nhSHFeb9IhLM7B/fXRjPglhk1Dr7RlqC5rNqkVLKBAAAASUGa60nh\n",
       "ClJlMCGf/p4QAFqrez4gBJLm3zmBhNRq5uARSeqpsSQeAIIxEDUDpkpO5zyFCHMQ0aDr3ZtU0yrw\n",
       "U649MNJTcrBb/yAAAABdQZsOSeEOiZTAhn/+nhAAWzmVrdANmJgBJLm3zmBhOWHA/igDTn0s6/UI\n",
       "wcFbhp6o5yl2yc5f9zBFmv0YenbH6YC6zomQCsYJwZJ46EZlw2V2yT6ekbG6U3Kwd78wAAAAPkGf\n",
       "LEURPCf/ABiGfGKAAVJ8cgcsPXkPL2CvHgFs8fkKbVgDWD6HmXp5s1kVt1nHylj4IKTEu8hjNtr+\n",
       "lwpJAAAATAGfTWpCPwAc//UBXKcqFPHLIJNLuqb8+b+PHiBvJbXcr4qV1BuvnhlCzOR6HRsrsIi2\n",
       "pnF/6BrbOKO6WHx9mEAqDNmxkfS1JgVgYEEAAACPQZtRSahBaJlMCF///oywAFm5lScwjABLUnnp\n",
       "reCMkrvJ/nG/+QAtH/oDjYsXYuU0cz4uKF/CaehQo9xz1Y4KkieQvz38aw18qDBEMB0ct8CTjxCY\n",
       "BNFqEqm/8gUMMVuuZj2tpPbCEA0VvLrFiejaNdHjHVfQpmrPUjy14Z9McQjJiEMZeBQ0RO4g3hhU\n",
       "S2kAAABiQZ9vRREsJ/8AF+Z8YoABUnxyByw9W9ukOzeD+LZ4G9Ap5pOKeblrwCe9eEGXBqrEXnhf\n",
       "0doZk7TZYzjPr5UJupFfTzWYhWe+uHGfOIIGIt2pPtkcHJmhnysal7Eg36nDgWcAAABGAZ+QakI/\n",
       "ABxP9QFco9ISAgz6+4PFbMkZGDAdcqi3KSYLo/cTTuSzIR4hRorsIC3Vmy/4lrR2CgByGLcOCDkB\n",
       "5Hkge6SB/gAAAIlBm5RJqEFsmUwIX//+jLAAV3mVJzCMAEtSeemt4IySu8n+cb/5AC0f+gONixdi\n",
       "5TRxqNOvhtlCj3HPVlwpg8b2XBHAMgzjX6dcEsLbsKCiJcZnXZZg9L1QEBFkwoRQMBqnuY/CDiYG\n",
       "UVh0KPGMKgv5/n5ZSVc5n0xxCMmIQxl4FDRE7iDeGGEZuQAAAFtBn7JFFSwn/wAXSponKADRExiA\n",
       "FoM8TqnkCq+7z1etqGYFPGdxT6ctdfC2aUP1/70Al8QRiUQeEnaDLGOZ+uWbcU+T6gqy2Kzb1uoz\n",
       "txAI3/3amF5sDz8oKgW0AAAATgGf02pCPwAboncBXKPSEgIM+vuDxWzJGRgwHXKotykmC6P3E07k\n",
       "syEeIUaK7CAt1Zsv+Ja0dgoAchi3DggxgSGMZLefqAEd+8WasKrCXgAAAIBBm9ZJqEFsmUwUTC//\n",
       "/oywAFU5lSc1FQAWtuw3YfUV5qnhQl+IXuEwLUkPd809qNOvhI/DZ44UweN7LgjgGQZxr9OuCWFt\n",
       "2FBREuMzrsswel6oCAiyYUIoGA1T3MfhBxMDKKw7U/dH5II+wOCSrP3XUeGLajOPLq5I6zNTuxVy\n",
       "wQAAAFcBn/VqQj8AGwh8ZVgBnz21N2FXmUuTSA06K4hyybxqUhWb3zDo9qBB1s7r//SuBD94E5Gt\n",
       "AxFEjxJVurGv6Eb6eI5hGQfPOPRy/AxCVCPh9zK0MqxpDrgAAABJQZv3SeEKUmUwIX/+jLAAUmod\n",
       "huAFYm4jhdLF+Uhh3nv7CwCep214w9SaBzpSckxAe9yp1hO6fNLUcL24ybFP1szIvkV7lgd8IQAA\n",
       "AI5BmhlJ4Q6JlMFNEwv//oywAFKDRGTJ1gCtKvKS/fC23b6BYETh+vTp+s7LUux1R/AVACZYKmps\n",
       "XVUteLbhv7D7fQFmTqmdCkEbRk4Or0wo2gfPbRNM2RheX09+nJOcs4rkF0hbebZ5b1OR10EIfl89\n",
       "WByVNf4/xB5uq/MZVP3ugduqCqDWVqoIkRz9zYf3AAAASwGeOGpCPwAaaIClYzvkP0Wr7eltBgDx\n",
       "7WdV4azMMRzxBNf26oarSg1JgMSCkS5PUSaAuIQpHqchv2hkOyzQ8hXo8VnUdIbRPahNwAAAAGBB\n",
       "mjpJ4Q8mUwIX//6MsABQKh35tgCtJrsUxvoRo4jhdLF+Uhh3nv7CwCep214w9SaBzpSckxAe9yp1\n",
       "hO6fNLUcL25XrLZRzU/3gBF/Byy/M2kqf8l9SKutic68vBnDsWEAAABNQZpbSeEPJlMCF//+jLAA\n",
       "UCo19ZwBtM89Ia/P/3zsewR3nv7CwCep214w9SaBzpSckxAe9yp1hO6fNLUcL24ybFP1mXqZZEj4\n",
       "IcvUX2oAAABfQZp8SeEPJlMCGf/+nhAAT6WoDQC6gA8SrXhHCLKHevXjGcbozTqSVGXXu80IYs8m\n",
       "Ke8fNAocJxIhKPTiWiFAiQBeR5TY63AyW/O8QBlAOV/q00B7F3b+Ancxf4e4amEAAACEQZqfSeEP\n",
       "JlMCGf/+nhAATVUPH0wACdVh1eqwkV0xSBQIiZoXpF92LUET0zq4pAGoG2KTgOWdJd+8/Q8ICgni\n",
       "jSUY/Ul3+EhsqFSFjI7QfjEA3nn7Z3y3JRbt2TvF/JQ9b7j44zIjyhpGGbBx1brk4Gyw8lme+TQb\n",
       "Zxz+G5brLhUgWNbBAAAAXUGevUURPCf/ABUKmicoAK9A/MDEYM8ToFFddCNw/46lsM+dASTuKfnl\n",
       "rtoWzmh+zPehMviiMS0Dv67P6YyTP2azcun0XULWW7WcCt3Gd6IApKGSgCKwSyEf4lIVNwAAAFIB\n",
       "nt5qQj8AGSiApWOU9dRQAtpxVu6C0dka5rbLQY76f/6PCMXvbVnpYjbZ/dGnf06wCnIo+xqJFR+f\n",
       "hCfugQe8ctbFX3qTp0MNN63ipllnKUneAAAAkEGawkmoQWiZTAhn//6eEABLUfo+mAATqsOr1WEi\n",
       "umKQKBETNC9IvuxagiemdXFIA1A2xScByzpLv3n6HhAUE8UaSjH6ku/wkNlQqQsZHaD8YgG88/bO\n",
       "+W5KLduyd4v5KJMjtwqq0eUzjXNN3CmALUkupd2Tg4izPFme+TQbZxz+G5brLhUjlpVycTVTLcLU\n",
       "ZQAAAFpBnuBFESwn/wAUeponKACvpjfgzeRi4CLCAXLz+sb8DPnQEk7in55a7aFs5ofsz3oTL4oj\n",
       "EtA7+uz+mMkz9ms3Lp9F1C1lu1nArdxneiAKShitJ7CP88caakAAAABSAZ8BakI/ABiIgKVjlPWH\n",
       "aGyivmR0MS5nO7lbxu535lZ7bsWbOm7rVquZ9bKA0UKRZEJxkvzYrCkqp0MbpShSLPLyMZrk2QA0\n",
       "Eh1yoaE17jGQqQAAAINBmwVJqEFsmUwIZ//+nhAASVH6PpgADsd5VxigiBMUgUBgxvcjs7/6giem\n",
       "dVl5we95cQoYGLtrB4l6viBESoJ5s0kkP1Td/nAbART/41Sz7YtwOnPooE0itfBWU/XmudGqKkzT\n",
       "UX3wU9bEhYOSvfa2B9a/SnJjXns9nXpkpQQmDFyqkAAAAFtBnyNFFSwn/wAT6ponKACvpjfgzeRi\n",
       "4CLCAXLz+sb8DPnQEk7in55a7aFs5ofsz3oTL4ojEtA7+uz+mMkz9ms3Lp9F1C1lu1nArdxneiAK\n",
       "SheUn4qEU/zi+zUhAAAAUgGfRGpCPwAX6IClY5T1h2hsor5kdDEuZzu5W8bud+ZWe27Fmzpu61ar\n",
       "mfWygNFCkWRCcZL82KwpKqdDG6UoUizy8jYaZrMANPAdcqGiovwHtr0AAABsQZtHSahBbJlMFEwz\n",
       "//6eEABHUkg4AIg35xoRXesphbvOJm5m0ej1jBDj8EEiG/mT2VMGMQbJlzGL8yOSHmcGOJyy1w0v\n",
       "eBoey6asnwPI4+bzt0ffKuy1XB5tCYu1txLonQQMxZQe9pudyqCfAAAAQQGfZmpCPwAXQkRekAM5\n",
       "IZykbiNGNxdiXEbIkgrfRepYDNw4rpxytsIFAe+l9dF1VFBqtISEw9pb1QU1GfYhO4w9AAAA8UGb\n",
       "aknhClJlMCGf/p4QAEe+eyRIeAEKb840IrvWUwt3nEzczaPR6xiTHj0KHrlv4C/hH829UotI5drD\n",
       "uHeGDNk1O/ivkhbz2kQf6AoIKnTBI1xLlJit808LHonOSv/KiAs2yrlx+NV1liPc87Dp0yqbgTtj\n",
       "jgNrBikbrw96H9y9TMbYql/ILCG8F35n88JOfBvYTUSBF7taVYZKhA6vmtTkXJHd0iq+abJaFBmy\n",
       "MBDjiWjGssswraZsJCOKefx2u08yu06cU+sJxFcOl3YU09JMgEUH+h9l0Nq2ulVMq4fQK/HOVqd1\n",
       "LRtad9pEj4MTeSsAAABkQZ+IRTRMJ/8AE1iSPFvT+mwQAlZWFs2AuX6ckvKPLJk/OycHiWMdc011\n",
       "oFfBjS1Avd9dUHFSF0M27bA682NWaQolQNUxHWu6vUXk7fOht38Bxv6slzoPETNvwHB1cq5vJZwH\n",
       "+AAAAEgBn6lqQj8AFrtAtVgBUyR4ZlRSe2mZoB8W+4aIPZ1LvuCfrb/XNIlsu9xD63KOTi4L+iKA\n",
       "4eOdxRDZ7jPEk1RUITW4A997W7kAAAClQZutSahBaJlMCF///oywAEZ+hC4S4AE7b4A0IrvV8whm\n",
       "rihczSSwc5QX/a4oXKrG9PF2xXKyuaMRgnGjj0bYVADvanE2lIjzW2wtXw20JmIt7yI77xFjvfB/\n",
       "EI353elt4YD/cp8zD2CSpC4KO579iwIt56y1NF/8sTKKj5OdGqgQ9WfXVbYbLKbPcygfQKVEkIjZ\n",
       "CuwiEK0Y5AfhFespTuKbHXJmAAAAZUGfy0URLCf/ABLYkjxb0/psEAJWVhbNgLl+nJLyjyyZPzsn\n",
       "B4ljHXNNdaBc+pGIk7VaTEOMS64ak6E6v0h8o6kkJXlsxAEVm2wWq+aab99BDN9mHmwwSjXpmEJN\n",
       "/kHT7r8tbA/wAAAASQGf7GpCPwAWK0C1WAFTJHhmVFJ7aZmgHxb7hog9nUu+4O6cLmifpwVorWoW\n",
       "sx1Xs0yDmemAP/lvcgQ6f1V5M9b09E43/pYPjj8AAACeQZvwSahBbJlMCFf//jhAAQb5liLHQAfz\n",
       "aYgCMr6EbD5jcCQdE6/TNfT9O3nmV5afAizovweMd5yM6GWtwHFuRGj0dGT6qYsfb/cjCSzfh4BV\n",
       "iykCDnPMdtS6RBWV1UzbBj+875cw3FX6VTxLXKXZ7xabsdWSkINRP4F0+bVUs1XxSMEEWm9ayFq2\n",
       "wcOYFD7FuB0MQKfXFQLyMqJBOmEAAABiQZ4ORRUsJ/8AEliSPFvT+mwQAlZWFs2AuX6ckvKPLJk/\n",
       "OycHiWMdc011oGBVdfyipnqTfIeK6H7cRCKTm/op4kCClIxX9Dx/AkzAEZa7CV72j0GJ0FOTLUTf\n",
       "4/2/18hBgd0AAABEAZ4vakI/ABWbQLVYAVMkeGZUUntpmaAfFvuGiD2dS77gz4zvwcN5Jfho5KIV\n",
       "gz+60oMmVL3NbuOt4Y3UgY4AlsFp2YAAAACdQZoxSahBbJlMCF///oywAEJ+hBvN0ALn3AUIvCRX\n",
       "NTrbkSwGhdw1nuBfQ8pHrl/9ZZNF2xWj9tA9erHXTu2usKd53sXiERAWK3nx2R8IWsutvoOt1OjD\n",
       "C9C//Qr793r/FI9HE/SZzXRgs8Gbb1kEGISEtMYnGXmHZ5SS4gayCGse/Xu3YUOUFE1sXuHU6H6z\n",
       "nPjHcxJl3cMWy/8tgAAAAGRBmlJJ4QpSZTAhf/6MsABAAXYYMAE6pqCrpcpeMN8Vz39hYBPU7a8Y\n",
       "esDg60d1esorcYSRTynIfi9R5J5OyrN6t+YOXOAnrdn+sAzJXyYfvfLCOsGpm01+xa67V53YffXM\n",
       "xWpBAAAAbkGac0nhDomUwIX//oywAEABYhgwAQ/j8hXPu9ym/Hy9NSMIO0QLLEGQU0vqu0IUvoII\n",
       "fEojBrx4MJzHxmYMIbPw3Mv0WFED/ZWJQEp0+mpssNO0dxoK3LPdttN7EgVrgIkTnxVfe9jdxNfy\n",
       "fRz4AAAAgUGalUnhDyZTBRE8L//+jLAAQDPbnikvAAnbfAUbD8PspYXcdx/6n9y+LAmu2DcA7Bps\n",
       "Ct9Be98wzVDMaf2Yeem08rHkSaU9+6ysT/OQ/QZ3lwzsYWX4dVBi8NfPYkfe+zeN+KX+dXDidMGR\n",
       "QFVGXu9Y35j77qN5coZ0OxCwvb0c+AAAAFQBnrRqQj8AFQUlXXwACBPsUXWb4PCZhEKYDa80ZDHE\n",
       "fOi1HCd7IreHHNK7CUw9WHLO+phQlWqEXIGyFhrp3DeTA2H4TJO3qtELvsLkSl25eKFYVsEAAACH\n",
       "QZq3SeEPJlMFPC///oywAD68J0yzAxTOADipr+udP9zjFR2c3AbrZWl5xnkcoiGnctsugULVDsUC\n",
       "BFDdYhEn8LbtX/ev/bdv5yShzYRKoA9Iuo1A1UnDBVTIzgK7YQdGIVzlypa1NKPx9m9QHf86L3d4\n",
       "+MzrWXO7z+q+R+A3Wq5cImhQE82gAAAASwGe1mpCPwAUclCH+RGXFGekLojXxZSTbB4Ct//gS4NI\n",
       "zfozZ33dj9Vz/rhwGiBSNIhQMl6bFoUmFOijdQUKpZ6eRvU/fFwJSTU1IQAAAFVBmthJ4Q8mUwIX\n",
       "//6MsAA8/INigAO/tWnae2Hum9Vmy1OqkokQMzr2Ajj8A0oCTjKYBa3j8dSRC1yylQ7iJeftvH0+\n",
       "TQyNQClHhIF+KFgocMWSz5tBAAAAT0Ga+knhDyZTBRE8L//+jLAAPVwnRPLJ9qc5JfTWYxw1qAtt\n",
       "1olKoxK0cThIBWiezr8nvJvB8DZpKKnl9L2Z+F6kABMlA/sSggJYz98zzuAAAABLAZ8ZakI/ABPi\n",
       "UIf5EZcUZ6QuiNfFlJNsHgK3/+BLg0jN+jNnfd2P1XP+uHAaIFI0iFAyXpsWhSYU6KN1BQqlnp5G\n",
       "9T98bCcJNTUhAAAANUGbG0nhDyZTAhf//oywADun4dqYa9GgRioYs5veeRrmZRdKl6zIqSINi+54\n",
       "LZ4ABnO49AfTAAAASkGbPUnhDyZTBRE8L//+jLAAO/wnP227t7r6zRIJnlnyyUh6xw76z1mBtBS4\n",
       "Gd/brfDSen4Sj2p7yqeuyvoBAEvinR9kHK9Hv0CBAAAASwGfXGpCPwATVfg2uvsLijPSF0Rr4spJ\n",
       "tg8BW//wJcGkZv0Zs77ux+q5/1w4DRApGkQoGS9Ni0KTCnRRuoKFUs9PI3qgU4vxOEmpqQAAADBB\n",
       "m15J4Q8mUwIX//6MsAA6R+HamGvRoEYqGLOb3nka5mUXSpesyKkiDYvueCxq+6AAAABJQZtgSeEP\n",
       "JlMFETwr//44QADjb/zgBIyCOF32mZTPbv+fRe28V4qdr3pCu6yRE7I46+bSyN02Ld/yACALODwn\n",
       "8OFKMG6ziYWmgAAAAEsBn59qQj8AEtX4Nrr7C4oz0hdEa+LKSbYPAVv/8CXBpGb9GbO+7sfquf9c\n",
       "OA0QKRpEKBkvTYtCkwp0UbqChVLPTyN6n75IE4SampEAAABUQZuBSeEPJlMCFf/+OEAA3MuCLdTA\n",
       "QY7DxqkMjAd3LgcfJ++wn3QN7aO6TqC/NiNDe1o0r6s+cq3dxEGk+oa9yiSev+lpvZ81LW9gDPFO\n",
       "w857SIXoAAAAREGboknhDyZTAhX//jhAANyeQF1SKLqjjF/8k8YcGC6bI+fRUv880O1+mWoDVk4w\n",
       "haUWw9EG9UR/WysWuOaOWevVXQmRAAAAXEGbw0nhDyZTAhX//jhAAN3v/Nd0GkAFBuUuv6Ne+JAA\n",
       "XQ7loxKZ5QW+g47vxMn8WOVtisa7N7s4pdPNmryiWQHcm87Dg4cOx97JK6oUIC3UE9JTUM5L3dVD\n",
       "SelQAAAAL0Gb5EnhDyZTAhX//jhAANfLaeXUwEGOw8apDIwHZYNy3JbXXOvPyb2vpeu+kdpnAAAA\n",
       "REGaBUnhDyZTAhX//jhAANeeQF1SKLqjjF/8k8YcGC6bI+fRUv880O1+mWoDVk4whaUWw9EG9UR/\n",
       "WysWuOaOWevVXQoxAAAAWUGaJknhDyZTAhX//jhAANjv/Nd0GkAFBuUuv6Ne+JAAXQ7loxKZ5QW+\n",
       "g47vxMn8WOVtZuflJ+ZcrLFDvgyw5egax+2JyuI+dEAWrq5oqDAKO8Ihv5iy4j3RAAAAL0GaR0nh\n",
       "DyZTAhX//jhAANLLaeXUwEGOw8apDIwHZYNy3JbXXOvPyb2vpeu+kdp3AAAAREGaaEnhDyZTAhX/\n",
       "/jhAANKeQF1SKLqjjF/8k8YcGC6bI+fRUv880O1+mWoDVk4whaUWw9EG9UR/WysWuOaOWevVXQrQ\n",
       "AAAAXEGaiUnhDyZTAhX//jhAANPv/OtYTJoAzqer8ExU9g2gJnLvP3/Ckj/u2DciVs7wY6iS3DZd\n",
       "nRKOhE53X/qLcClCCk1A2aiaINAcNDj9Py3HBICntSKl7uqhpPVIAAAAT0GaqknhDyZTAhf//oyw\n",
       "ADUUf6jbgDmCV2L2PjDfFc9/YWAT1O2vGHqTQOdKTkmID3uVOsJ3T5pajhe3K9bPvdRuS2JoKq+V\n",
       "Xd3Mai8aJeEAAABlQZrLSeEPJlMCF//+jLAANQsazggGNN64CPfBH6VIoXcnKNMgh6m7tW4gRgsh\n",
       "IFgLBwJ5QABdu+zjf37CjE1hsba4khHAXDj9AiBW8oiaJ0AktGHkRdwNjaQC0HvvMUvOEQDzqvAA\n",
       "AABpQZrsSeEPJlMCF//+jLAANQPc/1SY5O1gBbekLL76ySGqtgVvmb3vemmayTDgek99a5wrOvus\n",
       "rE/zkP0VXMwGh9uHMXmxKVNkPumg7HXUqDVqhto1ZZELcgi12aEmrG+JG+UqL/n6iUXAAAAAV0Gb\n",
       "DUnhDyZTAhn//p4QADNrvdJKAC+Vive9iqvp5baYH5zQa8ZbevTE2TLmMX6AB5HdWJ7HACoXxwN9\n",
       "p92RW/k/rWN0EidwyXKVM6f3pi3Lkz/i1LsdjwAAAJZBmy9J4Q8mUwURPDP//p4QADN28I+mAAOx\n",
       "0rgxk+pMKtxr6lPj2xeWEBnzvmB7Oq2cgXciWBjGLtrC/n9PDPKIlXPebPxQqidF46Avczf0ckmk\n",
       "KbnXk5l3RGAqLza17AHeTjD9TFE8/55yUBDQSk7Jzsh9dFgh0/RpkO0fxe0qddwvWv0pqRoX3qnj\n",
       "YUtfsHwyFYCp/mEAAABbAZ9OakI/ABBV77awAqakLyDrweTtJka6FjOkNXo53XzzEaSNNdw5BJC8\n",
       "rfXRg1tKQ43NNQ2e7fxj5IYbmXccJvrnhlSPFC21YvjpbO18dMv7TsVzoDdo6kED0wAAAHdBm1FJ\n",
       "4Q8mUwU8M//+nhAAMjTrHACFN+VcX13rKYW7WHVlsbUB7EvmXSPDNoEINBndVjIjfeinXSJgsaIs\n",
       "F/slJBbNVe18ZfJ2Y2NOFid5nusCOXM5ZvzA345vXZ5LXXk0UHRafa2yYOSX2BpTWfXPA9YsnG4d\n",
       "0AAAAEsBn3BqQj8AD9f++v7gMe+EALVt5BIGPqfe2pyvZn2PWVAJRSqK0AdqwS0pjKeH+YmTzchj\n",
       "pTrJsNcgXNyfOIDBJNw7aoONbpYYpIAAAABlQZt0SeEPJlMCGf/+nhAAMjbvgXWADahgtCvrvWUw\n",
       "t2sOrLY2oD2TJPIOc0CZwmxD3tNyRHNuCn1VM9BK1yO+6MjbLJn0/oHWynSsxg644MhnG2tCfIn5\n",
       "UStWkbuOdK6Crjf39VUAAABVQZ+SRRE8J/8ADYCcHi3qkKxoAEc+acwPq0IHfCKhXIxgOzZoQCFV\n",
       "OkrnSgYd2ERoSSTycqifFlo3V2XoMFm5piOPhvpiXQ1D8vpg5trX8fvjy40CggAAAEUBn7NqQj8A\n",
       "D3/++vIJeEALVt5BIGPqfhhlONT30grOoO8pbqo0/xWHRQgvjJJ5fsfLBuYJV23GY92Q60qGyRwf\n",
       "Z5StR8AAAACoQZu3SahBaJlMCGf//p4QADE/BpTJIARBvyri+u9ZTC3aw6stjagPZJjxQf9Ly1iy\n",
       "iGUd9QX+236Y4osjC7Ub6BGToIbA+yao01AONfF5rEnB4eWQ/MUNUK65+eVag0KAInREwpRsryPG\n",
       "6OYjSeWTf+Y0T/24jMnlLNsdlgLcFGEXf2Or5A5Qtz5Ou6q71qJAnRjySIKCEHcsHzol114XRfan\n",
       "HprL+0HpAAAAWkGf1UURLCf/AA0wnB4t6pCsaABHPmnMD6tCB3wioVyMYDs2aEAhVTpK6IoOxnX+\n",
       "H8ZY1ytoRh968wcKhdxDfc80YRxwfWUa8kyM4VDYMzn0l0st0Fgvnp0D5gAAAEcBn/ZqQj8ADyf+\n",
       "+vIJeEALVt5BIGPqfhhlONT30grOoO8pcSpOkoLga2OcrFE3eo/5zUmtMITV3IeSm3e/mX0BVwZc\n",
       "goA2YQAAAG9Bm/pJqEFsmUwIZ//+nhAAL/8GlMkgBEG/KuL671lMLdrDqy2NqA9kmPHoUPW/i4pQ\n",
       "j+beqUWkcu1h3DvDBmyanl92BZtlrYKqjFokHl32msP5/K3icl5NqxW3slId5j+jXIsblXkYmVnk\n",
       "kze4g4EAAABYQZ4YRRUsJ/8ADOCcHi3qkKxoAEc+acwPq0IHfCKhXIxgOzZoQCFVOkrpyg7GemVH\n",
       "is3xfRrxULllrQJu4otTiMJlkR3XQKekHwSWnyg58oIJgfL4ZWBdwAAAAEwBnjlqQj8ADs/++vIJ\n",
       "eEALVt5BIGPqfhhlONT30grOoO8pc6pOkoK/r6OcrFE3eo/5zUmtMITV3IeSm3e/mX0BVwlufK1U\n",
       "RrvFAF3BAAAAZkGaPUmoQWyZTAhf//6MsAAu4aJeeQAbULcfGJD1fMIZc0FlguYbQjTz8l5jHe+y\n",
       "1JAAliu+63dParFrrzhTZaItXJ+buOV5Rhu9JYu04PONIUjMokolzvcOLVytOdJhQ+XwoJkQ8AAA\n",
       "AF1BnltFFSwn/wAMkJweLeqQrGgARz5pzA+rQgd8IqFcjGA7NmhAIVU6SusQrzLX8FhTW+L6NeKh\n",
       "cstaBN3FFqcRhMsiO66BT0g+CS0+UHPlBMYZvod5X0MZh5SeBZUAAABLAZ58akI/AA5Rt7d0Bn0A\n",
       "Nxt5BIGPqfiZlBVf20y0tpfcoC7j57gquyQZ2MWjfSjjn5TK1gh5XQRy8c5OiXKJJXCaGVfDMjLl\n",
       "wA1JAAAAfUGaf0moQWyZTBRML//+jLAALcGiXnkAH7br8NDvPV8whlzWV9ILpj/kaepYqOtraMw3\n",
       "1lq8vrwfELwzWDT9EKU/mvLw5rremfuSl9PSOSLjBc4o+K1BD41WkYlcdj9NiuPpGOVsf0S0h8Vq\n",
       "EEBYYOLWVyiw1q1qx5MyUkTgAAAAVgGenmpCPwAOf/GulObkXCABqRea5TJ7sbZsm0scfiPAWQx9\n",
       "saMK9gvSzcuOeE0iE1Y9PMKuvKtEN2BLXJn3JyKS+aP108+H2t0UXP3fcna+nqHAUMCAAAAAjEGa\n",
       "gUnhClJlMFLC//6MsAAsn1gj/gAXPuAo4ax2TdKtwL6d9E+yzdPXQOKCnXgbwCEUuLmqnZLxQ2LL\n",
       "twmJH3zD1MlNLHKagWdDJTM6tDE/IQ82h4VmKff9iRuU4mxx3xha4nebFeFZychby4zc3bVyo9BU\n",
       "qTKEVSsA6Z75MOfqgnf/b3i+lZUEnQfBAAAAUwGeoGpCPwAOK4Fu1AZS4oikhbEa+UKSiu9yKw3c\n",
       "38y5kd4rM/2YGfxElhzBR3M+fbU9YphuXf61ItGoiuoUZ3w3Hs2gIzUUAbSLgAG6zppDjBgQAAAA\n",
       "XUGaoknhDomUwIX//oywACuJ9cgny4ASIIfrt3DGiu7ttxVs7mxuEXOcL2s7PjOFruZ0x9J3PlRm\n",
       "eLUwVCmOvHT8LnE/2OlENuNEQa2Mp+LpMW+jaV4jTUhBCspW0QAAAQJBmsRJ4Q8mUwUVPC///oyw\n",
       "ACuBoivedYAW3uAo4ax2TdKtwL6d9E+yzdPWzpxjK1/NQCEWQ+/2S8UNiy7cJiR98w9TJTSxymoX\n",
       "nMlDT84jaj4nL7u6PktcYmPRwPWI/amK27U9V4mowMHEdgTCK4GHqb8aAs8bpaHfHJMVyRoKKWB7\n",
       "6IT8COfqgyeTdYsthkHxnREb0pxzyFK3XgPqV2U8w1eE1tds7eH5CqDkIFL+8gE/CoGhvFFyky/v\n",
       "RPjsetp+bOHpRqdE+W46ZxvZ9Tk2949vOO8kQK0ZM2OI+JqSAlG6Ax3cBtvCR56SYNgsaRhUzvBU\n",
       "4co3JwyKKxMcuY+6DxgAAABiAZ7jakI/AA3UPjKsAKmpC8zzKWFaWulFpXERNSeq4rbP98xiPalQ\n",
       "dbpqgnclopainFKr6GhVSW8Q3mZ4bgzHGb6PX00/98NsfPRrtzCzQEalEzgvuVdIUdfqXNFkaYsz\n",
       "QUkAAAB5QZrlSeEPJlMCF//+jLAAKmniDvRbYATV//mC8P12uI2Vev9vaF5heo1/rYhKhMMiqx5p\n",
       "MTYSS6EJKyF9F+wYWEzMm7fDohCY3YjPNT5DatAReelQvRb/4+HeKzT7C9zRJI52b7+wpWUXpOBo\n",
       "UgAD9FEz5l4+DcpHdQAAAFlBmwZJ4Q8mUwIX//6MsAAqXn+qywARB/+9Ky+7PQbonqyFvRI7q8KZ\n",
       "2YCzpiEr1tfq0lUvVCZvxJeVGW+S32LrO+pM1V+6FBsFEORFT6lZR12qbcl6EEy7gQAAAIFBmyhJ\n",
       "4Q8mUwURPC///oywACpysdxY4AFz7gNiCQFRz/KEMuayvpBdMf8mgAm6NtsbQnh6iyxfPE1k8dVD\n",
       "iCOpQ74wC8CPvTmkSxmld8y067uSXaKAFM9+vskSeFVQaYl8gpy5nLPTgVZO2VYq3WDaGbYtxOqo\n",
       "77blH+aseLMic+8AAABjAZ9HakI/AA2BMq6+AAP8Dipu0Hv8lhm3xHZOdTijCw4VVc6sWtiaTGFA\n",
       "5wSqy62M/EuOBMdVgS49tm7l7LXCZGv+/6s0BjNSP+h6LIQqO/j2UYgi8isL/jSNVageQ+hM64Ju\n",
       "AAAAgEGbS0nhDyZTAhX//jhAAJ/yfV8QYgCOtendQetua3BqSB5eb0xMLZxRbVqdg+G6ZxgUV3ts\n",
       "CQv9V5UOVByW0jjUveJokifK2MMNIZ6EZz/iL2WedZm2/vZ4cPlPn08NawF58qG2X+ple1m/ErSP\n",
       "pf3gna0XuyrIUb6TeWQFQotoAAAAa0GfaUURPCf/AAsVTQ1k+kOOUzi4WfPCZj0EzFHgSyhHwr2p\n",
       "6tKc0/gIwD0Q1IULrIckA8GQQGrqrMhHNTOJk+i3T8Dam9pXLxicxBJorZraT8uv4g8BmYA+Nvqa\n",
       "ABN7pl/2o9o8DGrpmCpfAAAAUwGfimpCPwANMTKuvgAECfbAuglwXYqFMN7vnRrEGhqbf/a8R/zc\n",
       "wDwGGhaEbo+q2mHKheEH2Zy2Ei9QLtGV3tB7i9STJnB//PwCX4ZFzilxmBxwAAAANEGbjEmoQWiZ\n",
       "TAhX//44QACaef5sppTFp0OUSFoeIXSV5DMtUxftXA5XF/iDTlf7soRXvMsAAABaQZutSeEKUmUw\n",
       "IV/+OEAAm36TUb/bQ98qg1mEm731tx7x8Nq4gRAtHPtXWsFmEJ21qRjZ1Bc1EgpwMtcasM3VRoDD\n",
       "+D3LCUIvyoylH+r3MTPjH53XTicpr1lRAAAAO0GbzknhDomUwIV//jhAAJab+eXUwEGOw8apDIwH\n",
       "fB+SvO8OKSTtdeG1M2BXU8jfaPemqnMXwqF1+zErAAAAL0Gb70nhDyZTAhX//jhAAJZ5/lL96bP1\n",
       "GnTDUZI8a6xrhgQQCbI4nT9jTCa50NNDAAAAVkGaEEnhDyZTAhX//jhAAJd0TVavZtAE7uTd7624\n",
       "+JAAXQ7loxKZ5QW+g47vxMn8WOVtZuflJ+ZcrLFDvgyw5egax+2JyuI+dEAWrq5ibSU1DOTlNes+\n",
       "AAAAL0GaMUnhDyZTAhX//jhAAJKb+eXUwEGOw8apDIwHZYNy3JbXXOvPyb2vpeu+kdt+AAAAL0Ga\n",
       "UknhDyZTAhX//jhAAJJ5/lL96bP1GnTDUZI8a6xrhgQQCbI4nT9jTCa50NNNAAAAVkGac0nhDyZT\n",
       "AhX//jhAAJN0TVavZtAE7uTd7624+JAAXQ7loxKZ5QW+g47vxMn8WOVtZuflJ+ZcrLFDvgyw5ega\n",
       "x+2JyuI+dEAWrq5ibSU1DOTlNetSAAAAL0GalEnhDyZTAhX//jhAAI6b+eXUwEGOw8apDIwHZYNy\n",
       "3JbXXOvPyb2vpeu+kduWAAAAL0GatUnhDyZTAhX//jhAAI55/lL96bP1GnTDUZI8a6xrhgQQCbI4\n",
       "nT9jTCa50NNVAAAAVkGa1knhDyZTAhX//jhAAI90TVavZtAE7uTd7624+JAAXQ7loxKZ5QW+g47v\n",
       "xMn8WOVtZuflJ+ZcrLFDvgyw5egax+2JyuI+dEAWrq5ibSU1DOTlNetmAAAAOUGa90nhDyZTAhX/\n",
       "/jhAAIqb+eXUwEGOw8apDIwHfW7VYEOSCl8rZdOfeblwgcowTFa2w99/Uow3VQAAAD9BmxhJ4Q8m\n",
       "UwIV//44QACKef5S/emz9Rp0w1GSPIGWRH1+3NYCbmCGVLzy1jyRM5SJHKkEDgZNZguKl+OvRtcA\n",
       "AABZQZs5SeEPJlMCFf/+OEAAi3RNVq9m0APx/m7hOcPXxm+VvJEjEpnlBb6Dju/EyfxY5XhsAvw2\n",
       "OS1Fl/9Pu9P5+jDqtrer4Elw7uMmwUFrCg+kpqPMrPa9b0AAAABIQZtaSeEPJlMCFf/+OEAAhnn/\n",
       "RiAIjyUimHzA61z39hW/fU7a7gftAOgR9NDyK8QhlAwaI2Sp3Aohe38NlDwiA29VFQfrPFD5AAAA\n",
       "Q0Gbe0nhDyZTAhP//fEAAU/21Ha9wdaqjC27ICop0HfGTxnr30LsARvQc16knktwtcNGOJSSg0Zm\n",
       "gU7o54y5osN0DpAAAABDQZucSeEPJlMCEf/94QACDe6eUOfQa2JJc/w3pEeG6w8l77/UR2WhgBnM\n",
       "3f2EgwWun3rWh9LgHcXEefBmGl03PahPyQAAB4dtb292AAAAbG12aGQAAAAAAAAAAAAAAAAAAAPo\n",
       "AAAMNQABAAABAAAAAAAAAAAAAAAAAQAAAAAAAAAAAAAAAAAAAAEAAAAAAAAAAAAAAAAAAEAAAAAA\n",
       "AAAAAAAAAAAAAAAAAAAAAAAAAAAAAAAAAAACAAAGsXRyYWsAAABcdGtoZAAAAAMAAAAAAAAAAAAA\n",
       "AAEAAAAAAAAMNQAAAAAAAAAAAAAAAAAAAAAAAQAAAAAAAAAAAAAAAAAAAAEAAAAAAAAAAAAAAAAA\n",
       "AEAAAAADYAAAAfgAAAAAACRlZHRzAAAAHGVsc3QAAAAAAAAAAQAADDUAAAIAAAEAAAAABiltZGlh\n",
       "AAAAIG1kaGQAAAAAAAAAAAAAAAAAACgAAAB9AFXEAAAAAAAtaGRscgAAAAAAAAAAdmlkZQAAAAAA\n",
       "AAAAAAAAAFZpZGVvSGFuZGxlcgAAAAXUbWluZgAAABR2bWhkAAAAAQAAAAAAAAAAAAAAJGRpbmYA\n",
       "AAAcZHJlZgAAAAAAAAABAAAADHVybCAAAAABAAAFlHN0YmwAAAC4c3RzZAAAAAAAAAABAAAAqGF2\n",
       "YzEAAAAAAAAAAQAAAAAAAAAAAAAAAAAAAAADYAH4AEgAAABIAAAAAAAAAAEAAAAAAAAAAAAAAAAA\n",
       "AAAAAAAAAAAAAAAAAAAAAAAAAAAY//8AAAA2YXZjQwFkAB//4QAZZ2QAH6zZQNgQflhAAAADAEAA\n",
       "ABQDxgxlgAEABmjr48siwP34+AAAAAAcdXVpZGtoQPJfJE/FujmlG88DI/MAAAAAAAAAGHN0dHMA\n",
       "AAAAAAAAAQAAAH0AAAEAAAAAFHN0c3MAAAAAAAAAAQAAAAEAAAJwY3R0cwAAAAAAAABMAAAAAQAA\n",
       "AgAAAAABAAADAAAAAAEAAAEAAAAAAQAAAwAAAAABAAABAAAAAAEAAAMAAAAAAQAAAQAAAAABAAAE\n",
       "AAAAAAIAAAEAAAAAAgAAAgAAAAABAAAEAAAAAAIAAAEAAAAAAQAABAAAAAACAAABAAAAAAEAAAQA\n",
       "AAAAAgAAAQAAAAABAAADAAAAAAEAAAEAAAAAAQAAAgAAAAABAAADAAAAAAEAAAEAAAAAAwAAAgAA\n",
       "AAABAAAEAAAAAAIAAAEAAAAAAQAABAAAAAACAAABAAAAAAEAAAQAAAAAAgAAAQAAAAABAAADAAAA\n",
       "AAEAAAEAAAAAAQAABAAAAAACAAABAAAAAAEAAAQAAAAAAgAAAQAAAAABAAAEAAAAAAIAAAEAAAAA\n",
       "AwAAAgAAAAABAAADAAAAAAEAAAEAAAAAAQAAAwAAAAABAAABAAAAAAEAAAIAAAAAAQAAAwAAAAAB\n",
       "AAABAAAAAAEAAAIAAAAAAQAAAwAAAAABAAABAAAAAAEAAAIAAAAAAQAAAwAAAAABAAABAAAAAA0A\n",
       "AAIAAAAAAQAAAwAAAAABAAABAAAAAAEAAAMAAAAAAQAAAQAAAAABAAAEAAAAAAIAAAEAAAAAAQAA\n",
       "BAAAAAACAAABAAAAAAEAAAQAAAAAAgAAAQAAAAABAAAEAAAAAAIAAAEAAAAAAQAAAwAAAAABAAAB\n",
       "AAAAAAEAAAMAAAAAAQAAAQAAAAABAAACAAAAAAEAAAMAAAAAAQAAAQAAAAACAAACAAAAAAEAAAMA\n",
       "AAAAAQAAAQAAAAABAAAEAAAAAAIAAAEAAAAAEQAAAgAAAAAcc3RzYwAAAAAAAAABAAAAAQAAAH0A\n",
       "AAABAAACCHN0c3oAAAAAAAAAAAAAAH0AABDGAAADNAAAAKEAAAIGAAAAswAAAKcAAABhAAAAlwAA\n",
       "AG0AAABWAAAAVwAAAE0AAABhAAAAQgAAAFAAAACTAAAAZgAAAEoAAACNAAAAXwAAAFIAAACEAAAA\n",
       "WwAAAE0AAACSAAAATwAAAGQAAABRAAAAYwAAAIgAAABhAAAAVgAAAJQAAABeAAAAVgAAAIcAAABf\n",
       "AAAAVgAAAHAAAABFAAAA9QAAAGgAAABMAAAAqQAAAGkAAABNAAAAogAAAGYAAABIAAAAoQAAAGgA\n",
       "AAByAAAAhQAAAFgAAACLAAAATwAAAFkAAABTAAAATwAAADkAAABOAAAATwAAADQAAABNAAAATwAA\n",
       "AFgAAABIAAAAYAAAADMAAABIAAAAXQAAADMAAABIAAAAYAAAAFMAAABpAAAAbQAAAFsAAACaAAAA\n",
       "XwAAAHsAAABPAAAAaQAAAFkAAABJAAAArAAAAF4AAABLAAAAcwAAAFwAAABQAAAAagAAAGEAAABP\n",
       "AAAAgQAAAFoAAACQAAAAVwAAAGEAAAEGAAAAZgAAAH0AAABdAAAAhQAAAGcAAACEAAAAbwAAAFcA\n",
       "AAA4AAAAXgAAAD8AAAAzAAAAWgAAADMAAAAzAAAAWgAAADMAAAAzAAAAWgAAAD0AAABDAAAAXQAA\n",
       "AEwAAABHAAAARwAAABRzdGNvAAAAAAAAAAEAAAAwAAAAYnVkdGEAAABabWV0YQAAAAAAAAAhaGRs\n",
       "cgAAAAAAAAAAbWRpcmFwcGwAAAAAAAAAAAAAAAAtaWxzdAAAACWpdG9vAAAAHWRhdGEAAAABAAAA\n",
       "AExhdmY1OC40NS4xMDA=\n",
       "\">\n",
       "  Your browser does not support the video tag.\n",
       "</video>"
      ]
     },
     "metadata": {},
     "execution_count": 18
    },
    {
     "output_type": "display_data",
     "data": {
      "text/plain": [
       "<Figure size 864x504 with 1 Axes>"
      ],
      "image/png": "[encoded data removed]"
     },
     "metadata": {}
    }
   ],
   "metadata": {
    "collapsed": false,
    "pycharm": {
     "name": "#%%\n"
    }
   }
  },
  {
   "cell_type": "code",
   "execution_count": null,
   "source": [],
   "outputs": [],
   "metadata": {
    "collapsed": false,
    "pycharm": {
     "name": "#%%\n"
    }
   }
  }
 ],
 "metadata": {
  "kernelspec": {
   "name": "python3",
   "language": "python",
   "display_name": "Python 3"
  },
  "language_info": {
   "codemirror_mode": {
    "name": "ipython",
    "version": 2
   },
   "file_extension": ".py",
   "mimetype": "text/x-python",
   "name": "python",
   "nbconvert_exporter": "python",
   "pygments_lexer": "ipython2",
   "version": "2.7.6"
  }
 },
 "nbformat": 4,
 "nbformat_minor": 2
}